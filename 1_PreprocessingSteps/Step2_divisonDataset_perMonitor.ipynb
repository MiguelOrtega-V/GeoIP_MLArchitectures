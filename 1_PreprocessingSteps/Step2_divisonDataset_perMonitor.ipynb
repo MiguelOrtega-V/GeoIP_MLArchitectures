{
 "cells": [
  {
   "cell_type": "markdown",
   "metadata": {},
   "source": [
    "## División dataset para cada monitor (evitar problemas cómputo)"
   ]
  },
  {
   "cell_type": "code",
   "execution_count": 1,
   "metadata": {},
   "outputs": [
    {
     "name": "stdout",
     "output_type": "stream",
     "text": [
      "Size of learning dataset: (834720, 16)\n"
     ]
    },
    {
     "data": {
      "text/html": [
       "<div>\n",
       "<style scoped>\n",
       "    .dataframe tbody tr th:only-of-type {\n",
       "        vertical-align: middle;\n",
       "    }\n",
       "\n",
       "    .dataframe tbody tr th {\n",
       "        vertical-align: top;\n",
       "    }\n",
       "\n",
       "    .dataframe thead th {\n",
       "        text-align: right;\n",
       "    }\n",
       "</style>\n",
       "<table border=\"1\" class=\"dataframe\">\n",
       "  <thead>\n",
       "    <tr style=\"text-align: right;\">\n",
       "      <th></th>\n",
       "      <th>id</th>\n",
       "      <th>measure_id</th>\n",
       "      <th>monitor_id</th>\n",
       "      <th>landmark_id</th>\n",
       "      <th>landmark_type</th>\n",
       "      <th>dst_ip</th>\n",
       "      <th>ping_rtt1</th>\n",
       "      <th>ping_rtt2</th>\n",
       "      <th>ping_rtt3</th>\n",
       "      <th>ping_rtt4</th>\n",
       "      <th>ping_rtt5</th>\n",
       "      <th>ping_rtt_avg</th>\n",
       "      <th>ping_rtt_std</th>\n",
       "      <th>direct_distance_kms</th>\n",
       "      <th>init_time</th>\n",
       "      <th>end_time</th>\n",
       "    </tr>\n",
       "  </thead>\n",
       "  <tbody>\n",
       "    <tr>\n",
       "      <th>0</th>\n",
       "      <td>139713</td>\n",
       "      <td>95.217.19.69_2024-11-27 13:31:04</td>\n",
       "      <td>monitor_5_Warsaw_PL</td>\n",
       "      <td>9404</td>\n",
       "      <td>ripe_anchor</td>\n",
       "      <td>95.217.19.69</td>\n",
       "      <td>43.396</td>\n",
       "      <td>43.285</td>\n",
       "      <td>43.153</td>\n",
       "      <td>43.413</td>\n",
       "      <td>43.361</td>\n",
       "      <td>43.3216</td>\n",
       "      <td>0.09509</td>\n",
       "      <td>934.999404</td>\n",
       "      <td>2024-11-27 13:31:04</td>\n",
       "      <td>2024-11-27 13:31:10</td>\n",
       "    </tr>\n",
       "    <tr>\n",
       "      <th>1</th>\n",
       "      <td>139714</td>\n",
       "      <td>95.217.19.69_2024-11-27 13:31:04</td>\n",
       "      <td>monitor_2_Frankfurt am Main_DE</td>\n",
       "      <td>9404</td>\n",
       "      <td>ripe_anchor</td>\n",
       "      <td>95.217.19.69</td>\n",
       "      <td>29.764</td>\n",
       "      <td>30.024</td>\n",
       "      <td>30.169</td>\n",
       "      <td>29.848</td>\n",
       "      <td>29.768</td>\n",
       "      <td>29.9146</td>\n",
       "      <td>0.15830</td>\n",
       "      <td>1530.246007</td>\n",
       "      <td>2024-11-27 13:31:04</td>\n",
       "      <td>2024-11-27 13:31:10</td>\n",
       "    </tr>\n",
       "    <tr>\n",
       "      <th>2</th>\n",
       "      <td>139715</td>\n",
       "      <td>95.217.19.69_2024-11-27 13:31:04</td>\n",
       "      <td>monitor_6_Milan_IT</td>\n",
       "      <td>9404</td>\n",
       "      <td>ripe_anchor</td>\n",
       "      <td>95.217.19.69</td>\n",
       "      <td>44.189</td>\n",
       "      <td>44.295</td>\n",
       "      <td>44.580</td>\n",
       "      <td>44.130</td>\n",
       "      <td>44.185</td>\n",
       "      <td>44.2758</td>\n",
       "      <td>0.16121</td>\n",
       "      <td>1954.678802</td>\n",
       "      <td>2024-11-27 13:31:04</td>\n",
       "      <td>2024-11-27 13:31:10</td>\n",
       "    </tr>\n",
       "    <tr>\n",
       "      <th>3</th>\n",
       "      <td>139716</td>\n",
       "      <td>95.217.19.69_2024-11-27 13:31:04</td>\n",
       "      <td>monitor_1_Madrid_ES</td>\n",
       "      <td>9404</td>\n",
       "      <td>ripe_anchor</td>\n",
       "      <td>95.217.19.69</td>\n",
       "      <td>58.439</td>\n",
       "      <td>58.898</td>\n",
       "      <td>58.747</td>\n",
       "      <td>58.634</td>\n",
       "      <td>58.173</td>\n",
       "      <td>58.5782</td>\n",
       "      <td>0.25197</td>\n",
       "      <td>2963.403860</td>\n",
       "      <td>2024-11-27 13:31:04</td>\n",
       "      <td>2024-11-27 13:31:10</td>\n",
       "    </tr>\n",
       "    <tr>\n",
       "      <th>4</th>\n",
       "      <td>139717</td>\n",
       "      <td>95.217.19.69_2024-11-27 13:31:04</td>\n",
       "      <td>monitor_3_Dublin_IE</td>\n",
       "      <td>9404</td>\n",
       "      <td>ripe_anchor</td>\n",
       "      <td>95.217.19.69</td>\n",
       "      <td>44.494</td>\n",
       "      <td>45.022</td>\n",
       "      <td>44.098</td>\n",
       "      <td>44.170</td>\n",
       "      <td>44.756</td>\n",
       "      <td>44.5080</td>\n",
       "      <td>0.34878</td>\n",
       "      <td>2031.641470</td>\n",
       "      <td>2024-11-27 13:31:04</td>\n",
       "      <td>2024-11-27 13:31:11</td>\n",
       "    </tr>\n",
       "  </tbody>\n",
       "</table>\n",
       "</div>"
      ],
      "text/plain": [
       "       id                        measure_id                      monitor_id  \\\n",
       "0  139713  95.217.19.69_2024-11-27 13:31:04             monitor_5_Warsaw_PL   \n",
       "1  139714  95.217.19.69_2024-11-27 13:31:04  monitor_2_Frankfurt am Main_DE   \n",
       "2  139715  95.217.19.69_2024-11-27 13:31:04              monitor_6_Milan_IT   \n",
       "3  139716  95.217.19.69_2024-11-27 13:31:04             monitor_1_Madrid_ES   \n",
       "4  139717  95.217.19.69_2024-11-27 13:31:04             monitor_3_Dublin_IE   \n",
       "\n",
       "   landmark_id landmark_type        dst_ip  ping_rtt1  ping_rtt2  ping_rtt3  \\\n",
       "0         9404   ripe_anchor  95.217.19.69     43.396     43.285     43.153   \n",
       "1         9404   ripe_anchor  95.217.19.69     29.764     30.024     30.169   \n",
       "2         9404   ripe_anchor  95.217.19.69     44.189     44.295     44.580   \n",
       "3         9404   ripe_anchor  95.217.19.69     58.439     58.898     58.747   \n",
       "4         9404   ripe_anchor  95.217.19.69     44.494     45.022     44.098   \n",
       "\n",
       "   ping_rtt4  ping_rtt5  ping_rtt_avg  ping_rtt_std  direct_distance_kms  \\\n",
       "0     43.413     43.361       43.3216       0.09509           934.999404   \n",
       "1     29.848     29.768       29.9146       0.15830          1530.246007   \n",
       "2     44.130     44.185       44.2758       0.16121          1954.678802   \n",
       "3     58.634     58.173       58.5782       0.25197          2963.403860   \n",
       "4     44.170     44.756       44.5080       0.34878          2031.641470   \n",
       "\n",
       "             init_time             end_time  \n",
       "0  2024-11-27 13:31:04  2024-11-27 13:31:10  \n",
       "1  2024-11-27 13:31:04  2024-11-27 13:31:10  \n",
       "2  2024-11-27 13:31:04  2024-11-27 13:31:10  \n",
       "3  2024-11-27 13:31:04  2024-11-27 13:31:10  \n",
       "4  2024-11-27 13:31:04  2024-11-27 13:31:11  "
      ]
     },
     "execution_count": 1,
     "metadata": {},
     "output_type": "execute_result"
    }
   ],
   "source": [
    "# Carga dataset learning\n",
    "import pandas as pd\n",
    "\n",
    "dir = '../0_Datasets/'\n",
    "\n",
    "# Carga dataset learning\n",
    "df_learning = pd.read_csv(dir + 'Learning-Datasets/new_measurements_learning_6.csv')\n",
    "print(f'Size of learning dataset: {df_learning.shape}')\n",
    "df_learning.head()"
   ]
  },
  {
   "cell_type": "markdown",
   "metadata": {},
   "source": [
    "### División datasets de cada monitor"
   ]
  },
  {
   "cell_type": "code",
   "execution_count": 2,
   "metadata": {},
   "outputs": [
    {
     "name": "stdout",
     "output_type": "stream",
     "text": [
      "['monitor_5_Warsaw_PL' 'monitor_2_Frankfurt am Main_DE'\n",
      " 'monitor_6_Milan_IT' 'monitor_1_Madrid_ES' 'monitor_3_Dublin_IE'\n",
      " 'monitor_4_Gävle_SE']\n"
     ]
    }
   ],
   "source": [
    "# Según columna monitor_id, imprime los valores únicos\n",
    "print(df_learning['monitor_id'].unique())"
   ]
  },
  {
   "cell_type": "code",
   "execution_count": 3,
   "metadata": {},
   "outputs": [
    {
     "name": "stdout",
     "output_type": "stream",
     "text": [
      "Size of dataset 1 ES: (139120, 16)\n",
      "Size of dataset 2 DE: (139120, 16)\n",
      "Size of dataset 3 IE: (139120, 16)\n",
      "Size of dataset 4 SE: (139120, 16)\n",
      "Size of dataset 5 PL: (139120, 16)\n",
      "Size of dataset 6 IT: (139120, 16)\n"
     ]
    }
   ],
   "source": [
    "# Para cada monitor_id ('monitor_5_Warsaw_PL' 'monitor_2_Frankfurt am Main_DE' 'monitor_6_Milan_IT' 'monitor_1_Madrid_ES' 'monitor_3_Dublin_IE' 'monitor_4_Gävle_SE'), se crea un dataset\n",
    "df_1_ES = df_learning[df_learning['monitor_id'] == 'monitor_1_Madrid_ES']\n",
    "df_2_DE = df_learning[df_learning['monitor_id'] == 'monitor_2_Frankfurt am Main_DE']\n",
    "df_3_IE = df_learning[df_learning['monitor_id'] == 'monitor_3_Dublin_IE']\n",
    "df_4_SE = df_learning[df_learning['monitor_id'] == 'monitor_4_Gävle_SE']\n",
    "df_5_PL = df_learning[df_learning['monitor_id'] == 'monitor_5_Warsaw_PL']\n",
    "df_6_IT = df_learning[df_learning['monitor_id'] == 'monitor_6_Milan_IT']\n",
    "\n",
    "# Tamaño de cada dataset\n",
    "print(f'Size of dataset 1 ES: {df_1_ES.shape}')\n",
    "print(f'Size of dataset 2 DE: {df_2_DE.shape}')\n",
    "print(f'Size of dataset 3 IE: {df_3_IE.shape}')\n",
    "print(f'Size of dataset 4 SE: {df_4_SE.shape}')\n",
    "print(f'Size of dataset 5 PL: {df_5_PL.shape}')\n",
    "print(f'Size of dataset 6 IT: {df_6_IT.shape}')"
   ]
  },
  {
   "cell_type": "code",
   "execution_count": 4,
   "metadata": {},
   "outputs": [],
   "source": [
    "# Guarda los datasets en un archivo csv\n",
    "df_1_ES.to_csv(dir + 'Learning-Datasets/learnData_monit1_ES.csv', index=False)\n",
    "df_2_DE.to_csv(dir + 'Learning-Datasets/learnData_monit2_DE.csv', index=False)\n",
    "df_3_IE.to_csv(dir + 'Learning-Datasets/learnData_monit3_IE.csv', index=False)\n",
    "df_4_SE.to_csv(dir + 'Learning-Datasets/learnData_monit4_SE.csv', index=False)\n",
    "df_5_PL.to_csv(dir + 'Learning-Datasets/learnData_monit5_PL.csv', index=False)\n",
    "df_6_IT.to_csv(dir + 'Learning-Datasets/learnData_monit6_IT.csv', index=False)"
   ]
  }
 ],
 "metadata": {
  "kernelspec": {
   "display_name": "Python 3",
   "language": "python",
   "name": "python3"
  },
  "language_info": {
   "codemirror_mode": {
    "name": "ipython",
    "version": 3
   },
   "file_extension": ".py",
   "mimetype": "text/x-python",
   "name": "python",
   "nbconvert_exporter": "python",
   "pygments_lexer": "ipython3",
   "version": "3.13.2"
  }
 },
 "nbformat": 4,
 "nbformat_minor": 2
}
