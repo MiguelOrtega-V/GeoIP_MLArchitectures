{
 "cells": [
  {
   "cell_type": "markdown",
   "metadata": {},
   "source": [
    "## Primera limpieza y extracción de mediciones"
   ]
  },
  {
   "cell_type": "code",
   "execution_count": 2,
   "metadata": {},
   "outputs": [
    {
     "name": "stdout",
     "output_type": "stream",
     "text": [
      "Tamaño del dataset de learning: (841803, 16)\n",
      "Tamaño del dataset de validation: (46368, 16)\n"
     ]
    }
   ],
   "source": [
    "# Cargamos el dataset de mediciones learning/validation\n",
    "import pandas as pd\n",
    "\n",
    "dir = '../0_Datasets/'\n",
    "\n",
    "# Cargamos el dataset de mediciones learning/validation\n",
    "df_learning = pd.read_csv(dir + 'Learning-Datasets/new_measurements_learning.csv')\n",
    "df_validation = pd.read_csv(dir + 'Validation-Datasets/new_measurements_validation.csv')\n",
    "\n",
    "# Tamaño de los datasets\n",
    "print('Tamaño del dataset de learning:', df_learning.shape)\n",
    "print('Tamaño del dataset de validation:', df_validation.shape)"
   ]
  },
  {
   "cell_type": "code",
   "execution_count": 3,
   "metadata": {},
   "outputs": [
    {
     "name": "stdout",
     "output_type": "stream",
     "text": [
      "Tamaño del dataset de learning: (834720, 16)\n",
      "Tamaño del dataset de validation: (45996, 16)\n"
     ]
    }
   ],
   "source": [
    "# Nos quedamos con las entradas que tienen un measure_id común 6 veces (de los 6 monitores)\n",
    "df_learning_6 = df_learning[df_learning['measure_id'].map(df_learning['measure_id'].value_counts()) == 6]\n",
    "df_validation_6 = df_validation[df_validation['measure_id'].map(df_validation['measure_id'].value_counts()) == 6]\n",
    "\n",
    "# Tamaño de los datasets\n",
    "print('Tamaño del dataset de learning:', df_learning_6.shape)\n",
    "print('Tamaño del dataset de validation:', df_validation_6.shape)"
   ]
  },
  {
   "cell_type": "code",
   "execution_count": 4,
   "metadata": {},
   "outputs": [],
   "source": [
    "# Guardamos los datasets con las mediciones de los 6 monitores\n",
    "df_learning_6.to_csv(dir + 'Learning-Datasets/new_measurements_learning_6.csv', index=False)\n",
    "df_validation_6.to_csv(dir + 'Validation-Datasets/new_measurements_validation_6.csv', index=False)"
   ]
  }
 ],
 "metadata": {
  "kernelspec": {
   "display_name": "Python 3",
   "language": "python",
   "name": "python3"
  },
  "language_info": {
   "codemirror_mode": {
    "name": "ipython",
    "version": 3
   },
   "file_extension": ".py",
   "mimetype": "text/x-python",
   "name": "python",
   "nbconvert_exporter": "python",
   "pygments_lexer": "ipython3",
   "version": "3.13.2"
  }
 },
 "nbformat": 4,
 "nbformat_minor": 2
}
