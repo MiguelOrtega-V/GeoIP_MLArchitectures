{
 "cells": [
  {
   "cell_type": "markdown",
   "metadata": {},
   "source": [
    "## Unión datasets monitores + generación fingerprint"
   ]
  },
  {
   "cell_type": "markdown",
   "metadata": {},
   "source": [
    "### Carga y unión de datasets"
   ]
  },
  {
   "cell_type": "code",
   "execution_count": 24,
   "metadata": {},
   "outputs": [
    {
     "name": "stdout",
     "output_type": "stream",
     "text": [
      "Tamaño de los datasets:\n",
      "ES: (127501, 16)\n",
      "DE: (128641, 16)\n",
      "IE: (128524, 16)\n",
      "SE: (127198, 16)\n",
      "PL: (126663, 16)\n",
      "IT: (126657, 16)\n"
     ]
    }
   ],
   "source": [
    "# Cargamos los datasets procesados de los monitores\n",
    "import pandas as pd\n",
    "\n",
    "dir = '../0_Datasets/'\n",
    "\n",
    "# Cargamos los datasets de los monitores (ES, DE, IE, SE, PL, IT)\n",
    "df_1_ES = pd.read_csv(dir + 'Clean-Datasets/learnData_monit1_ES_clean.csv')\n",
    "df_2_DE = pd.read_csv(dir + 'Clean-Datasets/learnData_monit2_DE_clean.csv')\n",
    "df_3_IE = pd.read_csv(dir + 'Clean-Datasets/learnData_monit3_IE_clean.csv')\n",
    "df_4_SE = pd.read_csv(dir + 'Clean-Datasets/learnData_monit4_SE_clean.csv')\n",
    "df_5_PL = pd.read_csv(dir + 'Clean-Datasets/learnData_monit5_PL_clean.csv')\n",
    "df_6_IT = pd.read_csv(dir + 'Clean-Datasets/learnData_monit6_IT_clean.csv')\n",
    "\n",
    "# Tamaño de los datasets\n",
    "print('Tamaño de los datasets:')\n",
    "print('ES:', df_1_ES.shape)\n",
    "print('DE:', df_2_DE.shape)\n",
    "print('IE:', df_3_IE.shape)\n",
    "print('SE:', df_4_SE.shape)\n",
    "print('PL:', df_5_PL.shape)\n",
    "print('IT:', df_6_IT.shape)"
   ]
  },
  {
   "cell_type": "code",
   "execution_count": 25,
   "metadata": {},
   "outputs": [
    {
     "name": "stdout",
     "output_type": "stream",
     "text": [
      "Tamaño del dataset final: (765184, 16)\n"
     ]
    },
    {
     "data": {
      "application/vnd.microsoft.datawrangler.viewer.v0+json": {
       "columns": [
        {
         "name": "index",
         "rawType": "int64",
         "type": "integer"
        },
        {
         "name": "measure_id",
         "rawType": "object",
         "type": "string"
        },
        {
         "name": "monitor_id",
         "rawType": "object",
         "type": "string"
        },
        {
         "name": "landmark_id",
         "rawType": "int64",
         "type": "integer"
        },
        {
         "name": "landmark_type",
         "rawType": "object",
         "type": "string"
        },
        {
         "name": "dst_ip",
         "rawType": "object",
         "type": "string"
        },
        {
         "name": "ping_rtt1",
         "rawType": "float64",
         "type": "float"
        },
        {
         "name": "ping_rtt2",
         "rawType": "float64",
         "type": "float"
        },
        {
         "name": "ping_rtt3",
         "rawType": "float64",
         "type": "float"
        },
        {
         "name": "ping_rtt4",
         "rawType": "float64",
         "type": "float"
        },
        {
         "name": "ping_rtt5",
         "rawType": "float64",
         "type": "float"
        },
        {
         "name": "ping_rtt_avg",
         "rawType": "float64",
         "type": "float"
        },
        {
         "name": "ping_rtt_std",
         "rawType": "float64",
         "type": "float"
        },
        {
         "name": "direct_distance_kms",
         "rawType": "float64",
         "type": "float"
        },
        {
         "name": "init_time",
         "rawType": "object",
         "type": "string"
        },
        {
         "name": "4h_time_slot",
         "rawType": "int64",
         "type": "integer"
        },
        {
         "name": "6h_time_slot",
         "rawType": "int64",
         "type": "integer"
        }
       ],
       "conversionMethod": "pd.DataFrame",
       "ref": "1e38aa1b-5e98-4112-ad37-2ab6d89feba2",
       "rows": [
        [
         "0",
         "95.217.19.69_2024-11-27 13:31:04",
         "monitor_1_Madrid_ES",
         "9404",
         "ripe_anchor",
         "95.217.19.69",
         "58.439",
         "58.898",
         "58.747",
         "58.634",
         "58.173",
         "58.5782",
         "0.25197",
         "2963.40386027974",
         "2024-11-27 13:31:04",
         "12",
         "12"
        ],
        [
         "1",
         "45.13.104.153_2024-11-27 13:31:11",
         "monitor_1_Madrid_ES",
         "9042",
         "ripe_probe",
         "45.13.104.153",
         "31.799",
         "31.801",
         "31.797",
         "31.882",
         "31.886",
         "31.833",
         "0.04168",
         "912.53593090073",
         "2024-11-27 13:31:11",
         "12",
         "12"
        ],
        [
         "2",
         "212.216.126.87_2024-11-27 13:32:12",
         "monitor_1_Madrid_ES",
         "11265",
         "ripe_probe",
         "212.216.126.87",
         "39.699",
         "39.044",
         "39.275",
         "39.292",
         "38.981",
         "39.2582",
         "0.25237",
         "1341.88507385935",
         "2024-11-27 13:32:12",
         "12",
         "12"
        ],
        [
         "3",
         "31.21.219.185_2024-11-27 13:32:28",
         "monitor_1_Madrid_ES",
         "13743",
         "ripe_probe",
         "31.21.219.185",
         "38.281000000000006",
         "38.71",
         "38.269",
         "38.244",
         "38.24",
         "38.3488",
         "0.18125",
         "1413.98015489114",
         "2024-11-27 13:32:28",
         "12",
         "12"
        ],
        [
         "4",
         "92.117.103.72_2024-11-27 13:33:06",
         "monitor_1_Madrid_ES",
         "19667",
         "ripe_probe",
         "92.117.103.72",
         "41.44",
         "-1.0",
         "-1.0",
         "-1.0",
         "-1.0",
         "41.44",
         "16.976",
         "1410.98550623339",
         "2024-11-27 13:33:06",
         "12",
         "12"
        ]
       ],
       "shape": {
        "columns": 16,
        "rows": 5
       }
      },
      "text/html": [
       "<div>\n",
       "<style scoped>\n",
       "    .dataframe tbody tr th:only-of-type {\n",
       "        vertical-align: middle;\n",
       "    }\n",
       "\n",
       "    .dataframe tbody tr th {\n",
       "        vertical-align: top;\n",
       "    }\n",
       "\n",
       "    .dataframe thead th {\n",
       "        text-align: right;\n",
       "    }\n",
       "</style>\n",
       "<table border=\"1\" class=\"dataframe\">\n",
       "  <thead>\n",
       "    <tr style=\"text-align: right;\">\n",
       "      <th></th>\n",
       "      <th>measure_id</th>\n",
       "      <th>monitor_id</th>\n",
       "      <th>landmark_id</th>\n",
       "      <th>landmark_type</th>\n",
       "      <th>dst_ip</th>\n",
       "      <th>ping_rtt1</th>\n",
       "      <th>ping_rtt2</th>\n",
       "      <th>ping_rtt3</th>\n",
       "      <th>ping_rtt4</th>\n",
       "      <th>ping_rtt5</th>\n",
       "      <th>ping_rtt_avg</th>\n",
       "      <th>ping_rtt_std</th>\n",
       "      <th>direct_distance_kms</th>\n",
       "      <th>init_time</th>\n",
       "      <th>4h_time_slot</th>\n",
       "      <th>6h_time_slot</th>\n",
       "    </tr>\n",
       "  </thead>\n",
       "  <tbody>\n",
       "    <tr>\n",
       "      <th>0</th>\n",
       "      <td>95.217.19.69_2024-11-27 13:31:04</td>\n",
       "      <td>monitor_1_Madrid_ES</td>\n",
       "      <td>9404</td>\n",
       "      <td>ripe_anchor</td>\n",
       "      <td>95.217.19.69</td>\n",
       "      <td>58.439</td>\n",
       "      <td>58.898</td>\n",
       "      <td>58.747</td>\n",
       "      <td>58.634</td>\n",
       "      <td>58.173</td>\n",
       "      <td>58.5782</td>\n",
       "      <td>0.25197</td>\n",
       "      <td>2963.403860</td>\n",
       "      <td>2024-11-27 13:31:04</td>\n",
       "      <td>12</td>\n",
       "      <td>12</td>\n",
       "    </tr>\n",
       "    <tr>\n",
       "      <th>1</th>\n",
       "      <td>45.13.104.153_2024-11-27 13:31:11</td>\n",
       "      <td>monitor_1_Madrid_ES</td>\n",
       "      <td>9042</td>\n",
       "      <td>ripe_probe</td>\n",
       "      <td>45.13.104.153</td>\n",
       "      <td>31.799</td>\n",
       "      <td>31.801</td>\n",
       "      <td>31.797</td>\n",
       "      <td>31.882</td>\n",
       "      <td>31.886</td>\n",
       "      <td>31.8330</td>\n",
       "      <td>0.04168</td>\n",
       "      <td>912.535931</td>\n",
       "      <td>2024-11-27 13:31:11</td>\n",
       "      <td>12</td>\n",
       "      <td>12</td>\n",
       "    </tr>\n",
       "    <tr>\n",
       "      <th>2</th>\n",
       "      <td>212.216.126.87_2024-11-27 13:32:12</td>\n",
       "      <td>monitor_1_Madrid_ES</td>\n",
       "      <td>11265</td>\n",
       "      <td>ripe_probe</td>\n",
       "      <td>212.216.126.87</td>\n",
       "      <td>39.699</td>\n",
       "      <td>39.044</td>\n",
       "      <td>39.275</td>\n",
       "      <td>39.292</td>\n",
       "      <td>38.981</td>\n",
       "      <td>39.2582</td>\n",
       "      <td>0.25237</td>\n",
       "      <td>1341.885074</td>\n",
       "      <td>2024-11-27 13:32:12</td>\n",
       "      <td>12</td>\n",
       "      <td>12</td>\n",
       "    </tr>\n",
       "    <tr>\n",
       "      <th>3</th>\n",
       "      <td>31.21.219.185_2024-11-27 13:32:28</td>\n",
       "      <td>monitor_1_Madrid_ES</td>\n",
       "      <td>13743</td>\n",
       "      <td>ripe_probe</td>\n",
       "      <td>31.21.219.185</td>\n",
       "      <td>38.281</td>\n",
       "      <td>38.710</td>\n",
       "      <td>38.269</td>\n",
       "      <td>38.244</td>\n",
       "      <td>38.240</td>\n",
       "      <td>38.3488</td>\n",
       "      <td>0.18125</td>\n",
       "      <td>1413.980155</td>\n",
       "      <td>2024-11-27 13:32:28</td>\n",
       "      <td>12</td>\n",
       "      <td>12</td>\n",
       "    </tr>\n",
       "    <tr>\n",
       "      <th>4</th>\n",
       "      <td>92.117.103.72_2024-11-27 13:33:06</td>\n",
       "      <td>monitor_1_Madrid_ES</td>\n",
       "      <td>19667</td>\n",
       "      <td>ripe_probe</td>\n",
       "      <td>92.117.103.72</td>\n",
       "      <td>41.440</td>\n",
       "      <td>-1.000</td>\n",
       "      <td>-1.000</td>\n",
       "      <td>-1.000</td>\n",
       "      <td>-1.000</td>\n",
       "      <td>41.4400</td>\n",
       "      <td>16.97600</td>\n",
       "      <td>1410.985506</td>\n",
       "      <td>2024-11-27 13:33:06</td>\n",
       "      <td>12</td>\n",
       "      <td>12</td>\n",
       "    </tr>\n",
       "  </tbody>\n",
       "</table>\n",
       "</div>"
      ],
      "text/plain": [
       "                           measure_id           monitor_id  landmark_id  \\\n",
       "0    95.217.19.69_2024-11-27 13:31:04  monitor_1_Madrid_ES         9404   \n",
       "1   45.13.104.153_2024-11-27 13:31:11  monitor_1_Madrid_ES         9042   \n",
       "2  212.216.126.87_2024-11-27 13:32:12  monitor_1_Madrid_ES        11265   \n",
       "3   31.21.219.185_2024-11-27 13:32:28  monitor_1_Madrid_ES        13743   \n",
       "4   92.117.103.72_2024-11-27 13:33:06  monitor_1_Madrid_ES        19667   \n",
       "\n",
       "  landmark_type          dst_ip  ping_rtt1  ping_rtt2  ping_rtt3  ping_rtt4  \\\n",
       "0   ripe_anchor    95.217.19.69     58.439     58.898     58.747     58.634   \n",
       "1    ripe_probe   45.13.104.153     31.799     31.801     31.797     31.882   \n",
       "2    ripe_probe  212.216.126.87     39.699     39.044     39.275     39.292   \n",
       "3    ripe_probe   31.21.219.185     38.281     38.710     38.269     38.244   \n",
       "4    ripe_probe   92.117.103.72     41.440     -1.000     -1.000     -1.000   \n",
       "\n",
       "   ping_rtt5  ping_rtt_avg  ping_rtt_std  direct_distance_kms  \\\n",
       "0     58.173       58.5782       0.25197          2963.403860   \n",
       "1     31.886       31.8330       0.04168           912.535931   \n",
       "2     38.981       39.2582       0.25237          1341.885074   \n",
       "3     38.240       38.3488       0.18125          1413.980155   \n",
       "4     -1.000       41.4400      16.97600          1410.985506   \n",
       "\n",
       "             init_time  4h_time_slot  6h_time_slot  \n",
       "0  2024-11-27 13:31:04            12            12  \n",
       "1  2024-11-27 13:31:11            12            12  \n",
       "2  2024-11-27 13:32:12            12            12  \n",
       "3  2024-11-27 13:32:28            12            12  \n",
       "4  2024-11-27 13:33:06            12            12  "
      ]
     },
     "execution_count": 25,
     "metadata": {},
     "output_type": "execute_result"
    }
   ],
   "source": [
    "# Juntamos los datasets de los monitores\n",
    "df = pd.concat([df_1_ES, df_2_DE, df_3_IE, df_4_SE, df_5_PL, df_6_IT], ignore_index=True)\n",
    "\n",
    "# Tamaño del dataset final\n",
    "print('Tamaño del dataset final:', df.shape)\n",
    "df.head()"
   ]
  },
  {
   "cell_type": "code",
   "execution_count": 26,
   "metadata": {},
   "outputs": [
    {
     "name": "stdout",
     "output_type": "stream",
     "text": [
      "Número de entradas antes de filtrar: 765184\n",
      "Número de entradas después de filtrar: 697056\n"
     ]
    }
   ],
   "source": [
    "# Nos quedamos con las entradas que tengan repetido monitor_id 6 veces\n",
    "print(f'Número de entradas antes de filtrar: {df.shape[0]}')\n",
    "df_6 = df[df['measure_id'].map(df['measure_id'].value_counts()) == 6]\n",
    "print(f'Número de entradas después de filtrar: {df_6.shape[0]}')"
   ]
  },
  {
   "cell_type": "markdown",
   "metadata": {},
   "source": [
    "### Generación dataset fingerprint"
   ]
  },
  {
   "cell_type": "code",
   "execution_count": 27,
   "metadata": {},
   "outputs": [
    {
     "name": "stdout",
     "output_type": "stream",
     "text": [
      "Tamaño del dataset ripe: (6482, 6)\n"
     ]
    },
    {
     "data": {
      "application/vnd.microsoft.datawrangler.viewer.v0+json": {
       "columns": [
        {
         "name": "index",
         "rawType": "int64",
         "type": "integer"
        },
        {
         "name": "id",
         "rawType": "int64",
         "type": "integer"
        },
        {
         "name": "ip_v4",
         "rawType": "object",
         "type": "string"
        },
        {
         "name": "country",
         "rawType": "object",
         "type": "string"
        },
        {
         "name": "latitude",
         "rawType": "float64",
         "type": "float"
        },
        {
         "name": "longitude",
         "rawType": "float64",
         "type": "float"
        },
        {
         "name": "type",
         "rawType": "object",
         "type": "string"
        }
       ],
       "conversionMethod": "pd.DataFrame",
       "ref": "4a956488-f201-43c1-bad6-dbb52f6c35e8",
       "rows": [
        [
         "0",
         "278",
         "213.225.160.239",
         "FR",
         "48.583148",
         "7.747882",
         "anchor"
        ],
        [
         "1",
         "282",
         "145.220.0.55",
         "NL",
         "52.3702157",
         "4.8951679",
         "anchor"
        ],
        [
         "2",
         "291",
         "192.65.184.54",
         "FR",
         "46.232473",
         "6.045897",
         "anchor"
        ],
        [
         "3",
         "303",
         "213.190.96.41",
         "IS",
         "64.139664",
         "-21.955246",
         "anchor"
        ],
        [
         "4",
         "314",
         "185.42.136.158",
         "SE",
         "59.32893",
         "18.06491",
         "anchor"
        ]
       ],
       "shape": {
        "columns": 6,
        "rows": 5
       }
      },
      "text/html": [
       "<div>\n",
       "<style scoped>\n",
       "    .dataframe tbody tr th:only-of-type {\n",
       "        vertical-align: middle;\n",
       "    }\n",
       "\n",
       "    .dataframe tbody tr th {\n",
       "        vertical-align: top;\n",
       "    }\n",
       "\n",
       "    .dataframe thead th {\n",
       "        text-align: right;\n",
       "    }\n",
       "</style>\n",
       "<table border=\"1\" class=\"dataframe\">\n",
       "  <thead>\n",
       "    <tr style=\"text-align: right;\">\n",
       "      <th></th>\n",
       "      <th>id</th>\n",
       "      <th>ip_v4</th>\n",
       "      <th>country</th>\n",
       "      <th>latitude</th>\n",
       "      <th>longitude</th>\n",
       "      <th>type</th>\n",
       "    </tr>\n",
       "  </thead>\n",
       "  <tbody>\n",
       "    <tr>\n",
       "      <th>0</th>\n",
       "      <td>278</td>\n",
       "      <td>213.225.160.239</td>\n",
       "      <td>FR</td>\n",
       "      <td>48.583148</td>\n",
       "      <td>7.747882</td>\n",
       "      <td>anchor</td>\n",
       "    </tr>\n",
       "    <tr>\n",
       "      <th>1</th>\n",
       "      <td>282</td>\n",
       "      <td>145.220.0.55</td>\n",
       "      <td>NL</td>\n",
       "      <td>52.370216</td>\n",
       "      <td>4.895168</td>\n",
       "      <td>anchor</td>\n",
       "    </tr>\n",
       "    <tr>\n",
       "      <th>2</th>\n",
       "      <td>291</td>\n",
       "      <td>192.65.184.54</td>\n",
       "      <td>FR</td>\n",
       "      <td>46.232473</td>\n",
       "      <td>6.045897</td>\n",
       "      <td>anchor</td>\n",
       "    </tr>\n",
       "    <tr>\n",
       "      <th>3</th>\n",
       "      <td>303</td>\n",
       "      <td>213.190.96.41</td>\n",
       "      <td>IS</td>\n",
       "      <td>64.139664</td>\n",
       "      <td>-21.955246</td>\n",
       "      <td>anchor</td>\n",
       "    </tr>\n",
       "    <tr>\n",
       "      <th>4</th>\n",
       "      <td>314</td>\n",
       "      <td>185.42.136.158</td>\n",
       "      <td>SE</td>\n",
       "      <td>59.328930</td>\n",
       "      <td>18.064910</td>\n",
       "      <td>anchor</td>\n",
       "    </tr>\n",
       "  </tbody>\n",
       "</table>\n",
       "</div>"
      ],
      "text/plain": [
       "    id            ip_v4 country   latitude  longitude    type\n",
       "0  278  213.225.160.239      FR  48.583148   7.747882  anchor\n",
       "1  282     145.220.0.55      NL  52.370216   4.895168  anchor\n",
       "2  291    192.65.184.54      FR  46.232473   6.045897  anchor\n",
       "3  303    213.190.96.41      IS  64.139664 -21.955246  anchor\n",
       "4  314   185.42.136.158      SE  59.328930  18.064910  anchor"
      ]
     },
     "execution_count": 27,
     "metadata": {},
     "output_type": "execute_result"
    }
   ],
   "source": [
    "# Cargamos dataset ripe Anchor/Probes para extraer info geo\n",
    "df_ripe = pd.read_csv(dir + 'Learning-Datasets/new_anchors_probes_europe_learning.csv')\n",
    "\n",
    "# Imprimimos la cabecera del dataset\n",
    "print('Tamaño del dataset ripe:', df_ripe.shape)\n",
    "df_ripe.head()"
   ]
  },
  {
   "cell_type": "code",
   "execution_count": 28,
   "metadata": {},
   "outputs": [
    {
     "name": "stdout",
     "output_type": "stream",
     "text": [
      "Número de entradas antes de filtrar: 6482\n",
      "Número de entradas después de filtrar: 6314\n"
     ]
    }
   ],
   "source": [
    "# Comprobamos que no haya duplicados en el dataset ripe\n",
    "print('Número de entradas antes de filtrar:', df_ripe.shape[0])\n",
    "df_ripe = df_ripe.drop_duplicates(subset=['ip_v4'])\n",
    "print('Número de entradas después de filtrar:', df_ripe.shape[0])"
   ]
  },
  {
   "cell_type": "code",
   "execution_count": 29,
   "metadata": {},
   "outputs": [],
   "source": [
    "# Renombramos la columna ip_v4 a dst_ip para poder hacer el merge\n",
    "df_ripe.rename(columns={'ip_v4': 'dst_ip'}, inplace=True)"
   ]
  },
  {
   "cell_type": "code",
   "execution_count": 30,
   "metadata": {},
   "outputs": [
    {
     "name": "stdout",
     "output_type": "stream",
     "text": [
      "Tamaño del dataset final antes del merge: (697056, 16)\n",
      "Tamaño del dataset final después del merge: (697056, 19)\n"
     ]
    }
   ],
   "source": [
    "# Hacemos el merge de los datasets\n",
    "print('Tamaño del dataset final antes del merge:', df_6.shape)\n",
    "df_final = pd.merge(df_6, df_ripe[['dst_ip', 'latitude', 'longitude', 'country']], on='dst_ip', how='left')\n",
    "print('Tamaño del dataset final después del merge:', df_final.shape)"
   ]
  },
  {
   "cell_type": "code",
   "execution_count": 31,
   "metadata": {},
   "outputs": [
    {
     "name": "stdout",
     "output_type": "stream",
     "text": [
      "Clases de la columna monitor_id: ['monitor_1_Madrid_ES' 'monitor_2_Frankfurt am Main_DE'\n",
      " 'monitor_3_Dublin_IE' 'monitor_4_Gävle_SE' 'monitor_5_Warsaw_PL'\n",
      " 'monitor_6_Milan_IT']\n"
     ]
    },
    {
     "data": {
      "application/vnd.microsoft.datawrangler.viewer.v0+json": {
       "columns": [
        {
         "name": "index",
         "rawType": "int64",
         "type": "integer"
        },
        {
         "name": "measure_id",
         "rawType": "object",
         "type": "string"
        },
        {
         "name": "monitor_id",
         "rawType": "int64",
         "type": "integer"
        },
        {
         "name": "landmark_id",
         "rawType": "int64",
         "type": "integer"
        },
        {
         "name": "landmark_type",
         "rawType": "object",
         "type": "string"
        },
        {
         "name": "dst_ip",
         "rawType": "object",
         "type": "string"
        },
        {
         "name": "ping_rtt1",
         "rawType": "float64",
         "type": "float"
        },
        {
         "name": "ping_rtt2",
         "rawType": "float64",
         "type": "float"
        },
        {
         "name": "ping_rtt3",
         "rawType": "float64",
         "type": "float"
        },
        {
         "name": "ping_rtt4",
         "rawType": "float64",
         "type": "float"
        },
        {
         "name": "ping_rtt5",
         "rawType": "float64",
         "type": "float"
        },
        {
         "name": "ping_rtt_avg",
         "rawType": "float64",
         "type": "float"
        },
        {
         "name": "ping_rtt_std",
         "rawType": "float64",
         "type": "float"
        },
        {
         "name": "direct_distance_kms",
         "rawType": "float64",
         "type": "float"
        },
        {
         "name": "init_time",
         "rawType": "object",
         "type": "string"
        },
        {
         "name": "4h_time_slot",
         "rawType": "int64",
         "type": "integer"
        },
        {
         "name": "6h_time_slot",
         "rawType": "int64",
         "type": "integer"
        },
        {
         "name": "latitude",
         "rawType": "float64",
         "type": "float"
        },
        {
         "name": "longitude",
         "rawType": "float64",
         "type": "float"
        },
        {
         "name": "country",
         "rawType": "object",
         "type": "string"
        }
       ],
       "conversionMethod": "pd.DataFrame",
       "ref": "e27bb823-e57a-444a-b75e-a1bd4c1a5fd5",
       "rows": [
        [
         "0",
         "95.217.19.69_2024-11-27 13:31:04",
         "0",
         "9404",
         "ripe_anchor",
         "95.217.19.69",
         "58.439",
         "58.898",
         "58.747",
         "58.634",
         "58.173",
         "58.5782",
         "0.25197",
         "2963.40386027974",
         "2024-11-27 13:31:04",
         "12",
         "12",
         "60.3416703",
         "25.0276663",
         "FI"
        ],
        [
         "1",
         "45.13.104.153_2024-11-27 13:31:11",
         "0",
         "9042",
         "ripe_probe",
         "45.13.104.153",
         "31.799",
         "31.801",
         "31.797",
         "31.882",
         "31.886",
         "31.833",
         "0.04168",
         "912.53593090073",
         "2024-11-27 13:31:11",
         "12",
         "12",
         "45.7615",
         "4.8395",
         "FR"
        ],
        [
         "2",
         "212.216.126.87_2024-11-27 13:32:12",
         "0",
         "11265",
         "ripe_probe",
         "212.216.126.87",
         "39.699",
         "39.044",
         "39.275",
         "39.292",
         "38.981",
         "39.2582",
         "0.25237",
         "1341.88507385935",
         "2024-11-27 13:32:12",
         "12",
         "12",
         "44.8215",
         "11.5995",
         "IT"
        ],
        [
         "3",
         "31.21.219.185_2024-11-27 13:32:28",
         "0",
         "13743",
         "ripe_probe",
         "31.21.219.185",
         "38.281000000000006",
         "38.71",
         "38.269",
         "38.244",
         "38.24",
         "38.3488",
         "0.18125",
         "1413.98015489114",
         "2024-11-27 13:32:28",
         "12",
         "12",
         "51.4505",
         "5.4505",
         "NL"
        ],
        [
         "4",
         "194.1.149.210_2024-11-27 13:33:37",
         "0",
         "9117",
         "ripe_anchor",
         "194.1.149.210",
         "47.252",
         "47.505",
         "47.279",
         "47.019",
         "47.005",
         "47.212",
         "0.18549",
         "1974.0854846802904",
         "2024-11-27 13:33:37",
         "12",
         "12",
         "41.324873",
         "19.816192",
         "AL"
        ]
       ],
       "shape": {
        "columns": 19,
        "rows": 5
       }
      },
      "text/html": [
       "<div>\n",
       "<style scoped>\n",
       "    .dataframe tbody tr th:only-of-type {\n",
       "        vertical-align: middle;\n",
       "    }\n",
       "\n",
       "    .dataframe tbody tr th {\n",
       "        vertical-align: top;\n",
       "    }\n",
       "\n",
       "    .dataframe thead th {\n",
       "        text-align: right;\n",
       "    }\n",
       "</style>\n",
       "<table border=\"1\" class=\"dataframe\">\n",
       "  <thead>\n",
       "    <tr style=\"text-align: right;\">\n",
       "      <th></th>\n",
       "      <th>measure_id</th>\n",
       "      <th>monitor_id</th>\n",
       "      <th>landmark_id</th>\n",
       "      <th>landmark_type</th>\n",
       "      <th>dst_ip</th>\n",
       "      <th>ping_rtt1</th>\n",
       "      <th>ping_rtt2</th>\n",
       "      <th>ping_rtt3</th>\n",
       "      <th>ping_rtt4</th>\n",
       "      <th>ping_rtt5</th>\n",
       "      <th>ping_rtt_avg</th>\n",
       "      <th>ping_rtt_std</th>\n",
       "      <th>direct_distance_kms</th>\n",
       "      <th>init_time</th>\n",
       "      <th>4h_time_slot</th>\n",
       "      <th>6h_time_slot</th>\n",
       "      <th>latitude</th>\n",
       "      <th>longitude</th>\n",
       "      <th>country</th>\n",
       "    </tr>\n",
       "  </thead>\n",
       "  <tbody>\n",
       "    <tr>\n",
       "      <th>0</th>\n",
       "      <td>95.217.19.69_2024-11-27 13:31:04</td>\n",
       "      <td>0</td>\n",
       "      <td>9404</td>\n",
       "      <td>ripe_anchor</td>\n",
       "      <td>95.217.19.69</td>\n",
       "      <td>58.439</td>\n",
       "      <td>58.898</td>\n",
       "      <td>58.747</td>\n",
       "      <td>58.634</td>\n",
       "      <td>58.173</td>\n",
       "      <td>58.5782</td>\n",
       "      <td>0.25197</td>\n",
       "      <td>2963.403860</td>\n",
       "      <td>2024-11-27 13:31:04</td>\n",
       "      <td>12</td>\n",
       "      <td>12</td>\n",
       "      <td>60.341670</td>\n",
       "      <td>25.027666</td>\n",
       "      <td>FI</td>\n",
       "    </tr>\n",
       "    <tr>\n",
       "      <th>1</th>\n",
       "      <td>45.13.104.153_2024-11-27 13:31:11</td>\n",
       "      <td>0</td>\n",
       "      <td>9042</td>\n",
       "      <td>ripe_probe</td>\n",
       "      <td>45.13.104.153</td>\n",
       "      <td>31.799</td>\n",
       "      <td>31.801</td>\n",
       "      <td>31.797</td>\n",
       "      <td>31.882</td>\n",
       "      <td>31.886</td>\n",
       "      <td>31.8330</td>\n",
       "      <td>0.04168</td>\n",
       "      <td>912.535931</td>\n",
       "      <td>2024-11-27 13:31:11</td>\n",
       "      <td>12</td>\n",
       "      <td>12</td>\n",
       "      <td>45.761500</td>\n",
       "      <td>4.839500</td>\n",
       "      <td>FR</td>\n",
       "    </tr>\n",
       "    <tr>\n",
       "      <th>2</th>\n",
       "      <td>212.216.126.87_2024-11-27 13:32:12</td>\n",
       "      <td>0</td>\n",
       "      <td>11265</td>\n",
       "      <td>ripe_probe</td>\n",
       "      <td>212.216.126.87</td>\n",
       "      <td>39.699</td>\n",
       "      <td>39.044</td>\n",
       "      <td>39.275</td>\n",
       "      <td>39.292</td>\n",
       "      <td>38.981</td>\n",
       "      <td>39.2582</td>\n",
       "      <td>0.25237</td>\n",
       "      <td>1341.885074</td>\n",
       "      <td>2024-11-27 13:32:12</td>\n",
       "      <td>12</td>\n",
       "      <td>12</td>\n",
       "      <td>44.821500</td>\n",
       "      <td>11.599500</td>\n",
       "      <td>IT</td>\n",
       "    </tr>\n",
       "    <tr>\n",
       "      <th>3</th>\n",
       "      <td>31.21.219.185_2024-11-27 13:32:28</td>\n",
       "      <td>0</td>\n",
       "      <td>13743</td>\n",
       "      <td>ripe_probe</td>\n",
       "      <td>31.21.219.185</td>\n",
       "      <td>38.281</td>\n",
       "      <td>38.710</td>\n",
       "      <td>38.269</td>\n",
       "      <td>38.244</td>\n",
       "      <td>38.240</td>\n",
       "      <td>38.3488</td>\n",
       "      <td>0.18125</td>\n",
       "      <td>1413.980155</td>\n",
       "      <td>2024-11-27 13:32:28</td>\n",
       "      <td>12</td>\n",
       "      <td>12</td>\n",
       "      <td>51.450500</td>\n",
       "      <td>5.450500</td>\n",
       "      <td>NL</td>\n",
       "    </tr>\n",
       "    <tr>\n",
       "      <th>4</th>\n",
       "      <td>194.1.149.210_2024-11-27 13:33:37</td>\n",
       "      <td>0</td>\n",
       "      <td>9117</td>\n",
       "      <td>ripe_anchor</td>\n",
       "      <td>194.1.149.210</td>\n",
       "      <td>47.252</td>\n",
       "      <td>47.505</td>\n",
       "      <td>47.279</td>\n",
       "      <td>47.019</td>\n",
       "      <td>47.005</td>\n",
       "      <td>47.2120</td>\n",
       "      <td>0.18549</td>\n",
       "      <td>1974.085485</td>\n",
       "      <td>2024-11-27 13:33:37</td>\n",
       "      <td>12</td>\n",
       "      <td>12</td>\n",
       "      <td>41.324873</td>\n",
       "      <td>19.816192</td>\n",
       "      <td>AL</td>\n",
       "    </tr>\n",
       "  </tbody>\n",
       "</table>\n",
       "</div>"
      ],
      "text/plain": [
       "                           measure_id  monitor_id  landmark_id landmark_type  \\\n",
       "0    95.217.19.69_2024-11-27 13:31:04           0         9404   ripe_anchor   \n",
       "1   45.13.104.153_2024-11-27 13:31:11           0         9042    ripe_probe   \n",
       "2  212.216.126.87_2024-11-27 13:32:12           0        11265    ripe_probe   \n",
       "3   31.21.219.185_2024-11-27 13:32:28           0        13743    ripe_probe   \n",
       "4   194.1.149.210_2024-11-27 13:33:37           0         9117   ripe_anchor   \n",
       "\n",
       "           dst_ip  ping_rtt1  ping_rtt2  ping_rtt3  ping_rtt4  ping_rtt5  \\\n",
       "0    95.217.19.69     58.439     58.898     58.747     58.634     58.173   \n",
       "1   45.13.104.153     31.799     31.801     31.797     31.882     31.886   \n",
       "2  212.216.126.87     39.699     39.044     39.275     39.292     38.981   \n",
       "3   31.21.219.185     38.281     38.710     38.269     38.244     38.240   \n",
       "4   194.1.149.210     47.252     47.505     47.279     47.019     47.005   \n",
       "\n",
       "   ping_rtt_avg  ping_rtt_std  direct_distance_kms            init_time  \\\n",
       "0       58.5782       0.25197          2963.403860  2024-11-27 13:31:04   \n",
       "1       31.8330       0.04168           912.535931  2024-11-27 13:31:11   \n",
       "2       39.2582       0.25237          1341.885074  2024-11-27 13:32:12   \n",
       "3       38.3488       0.18125          1413.980155  2024-11-27 13:32:28   \n",
       "4       47.2120       0.18549          1974.085485  2024-11-27 13:33:37   \n",
       "\n",
       "   4h_time_slot  6h_time_slot   latitude  longitude country  \n",
       "0            12            12  60.341670  25.027666      FI  \n",
       "1            12            12  45.761500   4.839500      FR  \n",
       "2            12            12  44.821500  11.599500      IT  \n",
       "3            12            12  51.450500   5.450500      NL  \n",
       "4            12            12  41.324873  19.816192      AL  "
      ]
     },
     "execution_count": 31,
     "metadata": {},
     "output_type": "execute_result"
    }
   ],
   "source": [
    "# Codificamos la columna monitor_id\n",
    "from sklearn.preprocessing import LabelEncoder\n",
    "\n",
    "le = LabelEncoder()\n",
    "df_final['monitor_id'] = le.fit_transform(df_final['monitor_id'])\n",
    "print(f'Clases de la columna monitor_id: {le.classes_}')\n",
    "df_final.head()"
   ]
  },
  {
   "cell_type": "code",
   "execution_count": 32,
   "metadata": {},
   "outputs": [
    {
     "name": "stderr",
     "output_type": "stream",
     "text": [
      "Generando fingerprint:   0%|          | 0/116176 [00:00<?, ?it/s]C:\\Users\\ma.ortega\\AppData\\Local\\Temp\\ipykernel_15828\\309300501.py:77: FutureWarning: The behavior of DataFrame concatenation with empty or all-NA entries is deprecated. In a future version, this will no longer exclude empty or all-NA columns when determining the result dtypes. To retain the old behavior, exclude the relevant entries before the concat operation.\n",
      "  fingerprint = pd.concat([fingerprint, fingerprint_id], ignore_index=True)\n",
      "Generando fingerprint: 100%|██████████| 116176/116176 [1:22:40<00:00, 23.42it/s]"
     ]
    },
    {
     "name": "stdout",
     "output_type": "stream",
     "text": [
      "Size of fingerprint: (116176, 16)\n"
     ]
    },
    {
     "name": "stderr",
     "output_type": "stream",
     "text": [
      "\n"
     ]
    },
    {
     "data": {
      "application/vnd.microsoft.datawrangler.viewer.v0+json": {
       "columns": [
        {
         "name": "index",
         "rawType": "int64",
         "type": "integer"
        },
        {
         "name": "measure_id",
         "rawType": "object",
         "type": "string"
        },
        {
         "name": "landmark_id",
         "rawType": "object",
         "type": "unknown"
        },
        {
         "name": "dst_ip",
         "rawType": "object",
         "type": "string"
        },
        {
         "name": "init_time",
         "rawType": "object",
         "type": "string"
        },
        {
         "name": "latency_m1",
         "rawType": "float64",
         "type": "float"
        },
        {
         "name": "latency_m2",
         "rawType": "float64",
         "type": "float"
        },
        {
         "name": "latency_m3",
         "rawType": "float64",
         "type": "float"
        },
        {
         "name": "latency_m4",
         "rawType": "float64",
         "type": "float"
        },
        {
         "name": "latency_m5",
         "rawType": "float64",
         "type": "float"
        },
        {
         "name": "latency_m6",
         "rawType": "float64",
         "type": "float"
        },
        {
         "name": "latitude",
         "rawType": "float64",
         "type": "float"
        },
        {
         "name": "longitude",
         "rawType": "float64",
         "type": "float"
        },
        {
         "name": "gps_coord",
         "rawType": "object",
         "type": "unknown"
        },
        {
         "name": "country_code",
         "rawType": "object",
         "type": "string"
        },
        {
         "name": "4h_time_slot",
         "rawType": "object",
         "type": "unknown"
        },
        {
         "name": "6h_time_slot",
         "rawType": "object",
         "type": "unknown"
        }
       ],
       "conversionMethod": "pd.DataFrame",
       "ref": "6f64219b-2bf9-43c7-b987-07e572fab4df",
       "rows": [
        [
         "0",
         "95.217.19.69_2024-11-27 13:31:04",
         "9404",
         "95.217.19.69",
         "2024-11-27 13:31:04",
         "58.5782",
         "29.9146",
         "44.508",
         "30.9156",
         "43.3216",
         "44.2758",
         "60.3416703",
         "25.0276663",
         "[60.3416703 25.0276663]",
         "FI",
         "12",
         "12"
        ],
        [
         "1",
         "45.13.104.153_2024-11-27 13:31:11",
         "9042",
         "45.13.104.153",
         "2024-11-27 13:31:11",
         "31.833",
         "24.006",
         "31.605",
         "40.16",
         "41.6678",
         "33.83319999999999",
         "45.7615",
         "4.8395",
         "[45.7615  4.8395]",
         "FR",
         "12",
         "12"
        ],
        [
         "2",
         "212.216.126.87_2024-11-27 13:32:12",
         "11265",
         "212.216.126.87",
         "2024-11-27 13:32:12",
         "39.2582",
         "24.6598",
         "40.5294",
         "45.7428",
         "38.677",
         "37.7004",
         "44.8215",
         "11.5995",
         "[44.8215 11.5995]",
         "IT",
         "12",
         "12"
        ],
        [
         "3",
         "31.21.219.185_2024-11-27 13:32:28",
         "13743",
         "31.21.219.185",
         "2024-11-27 13:32:28",
         "38.3488",
         "16.210200000000004",
         "24.1406",
         "33.097",
         "33.7898",
         "27.4372",
         "51.4505",
         "5.4505",
         "[51.4505  5.4505]",
         "NL",
         "12",
         "12"
        ],
        [
         "4",
         "194.1.149.210_2024-11-27 13:33:37",
         "9117",
         "194.1.149.210",
         "2024-11-27 13:33:37",
         "47.212",
         "29.2842",
         "50.24",
         "56.8978",
         "62.31420000000001",
         "54.1528",
         "41.324873",
         "19.816192",
         "[41.324873 19.816192]",
         "AL",
         "12",
         "12"
        ]
       ],
       "shape": {
        "columns": 16,
        "rows": 5
       }
      },
      "text/html": [
       "<div>\n",
       "<style scoped>\n",
       "    .dataframe tbody tr th:only-of-type {\n",
       "        vertical-align: middle;\n",
       "    }\n",
       "\n",
       "    .dataframe tbody tr th {\n",
       "        vertical-align: top;\n",
       "    }\n",
       "\n",
       "    .dataframe thead th {\n",
       "        text-align: right;\n",
       "    }\n",
       "</style>\n",
       "<table border=\"1\" class=\"dataframe\">\n",
       "  <thead>\n",
       "    <tr style=\"text-align: right;\">\n",
       "      <th></th>\n",
       "      <th>measure_id</th>\n",
       "      <th>landmark_id</th>\n",
       "      <th>dst_ip</th>\n",
       "      <th>init_time</th>\n",
       "      <th>latency_m1</th>\n",
       "      <th>latency_m2</th>\n",
       "      <th>latency_m3</th>\n",
       "      <th>latency_m4</th>\n",
       "      <th>latency_m5</th>\n",
       "      <th>latency_m6</th>\n",
       "      <th>latitude</th>\n",
       "      <th>longitude</th>\n",
       "      <th>gps_coord</th>\n",
       "      <th>country_code</th>\n",
       "      <th>4h_time_slot</th>\n",
       "      <th>6h_time_slot</th>\n",
       "    </tr>\n",
       "  </thead>\n",
       "  <tbody>\n",
       "    <tr>\n",
       "      <th>0</th>\n",
       "      <td>95.217.19.69_2024-11-27 13:31:04</td>\n",
       "      <td>9404</td>\n",
       "      <td>95.217.19.69</td>\n",
       "      <td>2024-11-27 13:31:04</td>\n",
       "      <td>58.5782</td>\n",
       "      <td>29.9146</td>\n",
       "      <td>44.5080</td>\n",
       "      <td>30.9156</td>\n",
       "      <td>43.3216</td>\n",
       "      <td>44.2758</td>\n",
       "      <td>60.341670</td>\n",
       "      <td>25.027666</td>\n",
       "      <td>[60.3416703, 25.0276663]</td>\n",
       "      <td>FI</td>\n",
       "      <td>12</td>\n",
       "      <td>12</td>\n",
       "    </tr>\n",
       "    <tr>\n",
       "      <th>1</th>\n",
       "      <td>45.13.104.153_2024-11-27 13:31:11</td>\n",
       "      <td>9042</td>\n",
       "      <td>45.13.104.153</td>\n",
       "      <td>2024-11-27 13:31:11</td>\n",
       "      <td>31.8330</td>\n",
       "      <td>24.0060</td>\n",
       "      <td>31.6050</td>\n",
       "      <td>40.1600</td>\n",
       "      <td>41.6678</td>\n",
       "      <td>33.8332</td>\n",
       "      <td>45.761500</td>\n",
       "      <td>4.839500</td>\n",
       "      <td>[45.7615, 4.8395]</td>\n",
       "      <td>FR</td>\n",
       "      <td>12</td>\n",
       "      <td>12</td>\n",
       "    </tr>\n",
       "    <tr>\n",
       "      <th>2</th>\n",
       "      <td>212.216.126.87_2024-11-27 13:32:12</td>\n",
       "      <td>11265</td>\n",
       "      <td>212.216.126.87</td>\n",
       "      <td>2024-11-27 13:32:12</td>\n",
       "      <td>39.2582</td>\n",
       "      <td>24.6598</td>\n",
       "      <td>40.5294</td>\n",
       "      <td>45.7428</td>\n",
       "      <td>38.6770</td>\n",
       "      <td>37.7004</td>\n",
       "      <td>44.821500</td>\n",
       "      <td>11.599500</td>\n",
       "      <td>[44.8215, 11.5995]</td>\n",
       "      <td>IT</td>\n",
       "      <td>12</td>\n",
       "      <td>12</td>\n",
       "    </tr>\n",
       "    <tr>\n",
       "      <th>3</th>\n",
       "      <td>31.21.219.185_2024-11-27 13:32:28</td>\n",
       "      <td>13743</td>\n",
       "      <td>31.21.219.185</td>\n",
       "      <td>2024-11-27 13:32:28</td>\n",
       "      <td>38.3488</td>\n",
       "      <td>16.2102</td>\n",
       "      <td>24.1406</td>\n",
       "      <td>33.0970</td>\n",
       "      <td>33.7898</td>\n",
       "      <td>27.4372</td>\n",
       "      <td>51.450500</td>\n",
       "      <td>5.450500</td>\n",
       "      <td>[51.4505, 5.4505]</td>\n",
       "      <td>NL</td>\n",
       "      <td>12</td>\n",
       "      <td>12</td>\n",
       "    </tr>\n",
       "    <tr>\n",
       "      <th>4</th>\n",
       "      <td>194.1.149.210_2024-11-27 13:33:37</td>\n",
       "      <td>9117</td>\n",
       "      <td>194.1.149.210</td>\n",
       "      <td>2024-11-27 13:33:37</td>\n",
       "      <td>47.2120</td>\n",
       "      <td>29.2842</td>\n",
       "      <td>50.2400</td>\n",
       "      <td>56.8978</td>\n",
       "      <td>62.3142</td>\n",
       "      <td>54.1528</td>\n",
       "      <td>41.324873</td>\n",
       "      <td>19.816192</td>\n",
       "      <td>[41.324873, 19.816192]</td>\n",
       "      <td>AL</td>\n",
       "      <td>12</td>\n",
       "      <td>12</td>\n",
       "    </tr>\n",
       "  </tbody>\n",
       "</table>\n",
       "</div>"
      ],
      "text/plain": [
       "                           measure_id landmark_id          dst_ip  \\\n",
       "0    95.217.19.69_2024-11-27 13:31:04        9404    95.217.19.69   \n",
       "1   45.13.104.153_2024-11-27 13:31:11        9042   45.13.104.153   \n",
       "2  212.216.126.87_2024-11-27 13:32:12       11265  212.216.126.87   \n",
       "3   31.21.219.185_2024-11-27 13:32:28       13743   31.21.219.185   \n",
       "4   194.1.149.210_2024-11-27 13:33:37        9117   194.1.149.210   \n",
       "\n",
       "             init_time  latency_m1  latency_m2  latency_m3  latency_m4  \\\n",
       "0  2024-11-27 13:31:04     58.5782     29.9146     44.5080     30.9156   \n",
       "1  2024-11-27 13:31:11     31.8330     24.0060     31.6050     40.1600   \n",
       "2  2024-11-27 13:32:12     39.2582     24.6598     40.5294     45.7428   \n",
       "3  2024-11-27 13:32:28     38.3488     16.2102     24.1406     33.0970   \n",
       "4  2024-11-27 13:33:37     47.2120     29.2842     50.2400     56.8978   \n",
       "\n",
       "   latency_m5  latency_m6   latitude  longitude                 gps_coord  \\\n",
       "0     43.3216     44.2758  60.341670  25.027666  [60.3416703, 25.0276663]   \n",
       "1     41.6678     33.8332  45.761500   4.839500         [45.7615, 4.8395]   \n",
       "2     38.6770     37.7004  44.821500  11.599500        [44.8215, 11.5995]   \n",
       "3     33.7898     27.4372  51.450500   5.450500         [51.4505, 5.4505]   \n",
       "4     62.3142     54.1528  41.324873  19.816192    [41.324873, 19.816192]   \n",
       "\n",
       "  country_code 4h_time_slot 6h_time_slot  \n",
       "0           FI           12           12  \n",
       "1           FR           12           12  \n",
       "2           IT           12           12  \n",
       "3           NL           12           12  \n",
       "4           AL           12           12  "
      ]
     },
     "execution_count": 32,
     "metadata": {},
     "output_type": "execute_result"
    }
   ],
   "source": [
    "# Generación del dataset fingerprint\n",
    "# Por cada measure_id, generamos el dataset fingerprint\n",
    "from tqdm import tqdm\n",
    "\n",
    "# Creamos un dataframe vacío con las columnas que vamos a necesitar\n",
    "fingerprint = pd.DataFrame(columns=[\n",
    "    'measure_id', \n",
    "    'landmark_id', \n",
    "    'dst_ip', \n",
    "    'init_time', \n",
    "    'latency_m1', \n",
    "    'latency_m2', \n",
    "    'latency_m3', \n",
    "    'latency_m4', \n",
    "    'latency_m5', \n",
    "    'latency_m6', \n",
    "    'latitude', \n",
    "    'longitude', \n",
    "    'gps_coord', \n",
    "    'country_code',\n",
    "    '4h_time_slot',\n",
    "    '6h_time_slot'\n",
    "])\n",
    "\n",
    "# Obtenemos los measure_id únicos\n",
    "measure_ids = df_final['measure_id'].unique()\n",
    "\n",
    "# Iteramos sobre los measure_id\n",
    "for measure_id in tqdm(measure_ids, desc=\"Generando fingerprint\"):\n",
    "    # Obtenemos las entradas asociadas a ese measure_id\n",
    "    measure_data = df_final[df_final['measure_id'] == measure_id]\n",
    "    # print(measure_data)\n",
    "\n",
    "    # Obtenemos las latencias además del id del monitor\n",
    "    latencies = measure_data[['monitor_id', 'ping_rtt_avg']].values\n",
    "    # print(latencies)\n",
    "    \n",
    "    # Obtenemos las coordenadas GPS\n",
    "    gps = measure_data[['latitude', 'longitude']].values[0]\n",
    "    latitudes = measure_data['latitude'].values[0]\n",
    "    longitudes = measure_data['longitude'].values[0]\n",
    "\n",
    "    # Obtenemos el country_code\n",
    "    country_code = measure_data['country'].values[0]\n",
    "    \n",
    "    # Obtenemos el landmark_id, dst_ip y init_time\n",
    "    landmark_id = measure_data['landmark_id'].values[0]\n",
    "    dst_ip = measure_data['dst_ip'].values[0]\n",
    "    init_time = measure_data['init_time'].values[0]\n",
    "\n",
    "    # Obtenemos las franjas horarias\n",
    "    time_slot_4h = measure_data['4h_time_slot'].values[0]\n",
    "    time_slot_6h = measure_data['6h_time_slot'].values[0]\n",
    "    \n",
    "    # Añadimos una nueva entrada al dataframe fingerprint\n",
    "    fingerprint_id = pd.DataFrame(\n",
    "        {\n",
    "            'measure_id': [measure_id],\n",
    "            'landmark_id': [landmark_id],\n",
    "            'dst_ip': [dst_ip],\n",
    "            'init_time': [init_time],\n",
    "            '4h_time_slot': [time_slot_4h],\n",
    "            '6h_time_slot': [time_slot_6h],\n",
    "            'latency_m1': [latencies[latencies[:, 0] == 0, 1][0]],\n",
    "            'latency_m2': [latencies[latencies[:, 0] == 1, 1][0]],\n",
    "            'latency_m3': [latencies[latencies[:, 0] == 2, 1][0]],\n",
    "            'latency_m4': [latencies[latencies[:, 0] == 3, 1][0]],\n",
    "            'latency_m5': [latencies[latencies[:, 0] == 4, 1][0]],\n",
    "            'latency_m6': [latencies[latencies[:, 0] == 5, 1][0]],\n",
    "            'latitude': [latitudes],\n",
    "            'longitude': [longitudes],\n",
    "            'gps_coord': [gps],\n",
    "            'country_code': [country_code]\n",
    "        },\n",
    "        index=[0]\n",
    "    )\n",
    "    fingerprint = pd.concat([fingerprint, fingerprint_id], ignore_index=True)\n",
    "\n",
    "# Mostramos las primeras filas del dataframe fingerprint\n",
    "print(f'Size of fingerprint: {fingerprint.shape}')\n",
    "fingerprint.head()"
   ]
  },
  {
   "cell_type": "code",
   "execution_count": 33,
   "metadata": {},
   "outputs": [],
   "source": [
    "# Guardamos el dataset fingerprint\n",
    "fingerprint.to_csv(dir + 'Fingerprint-Datasets/fingerprint.csv', index=False)"
   ]
  }
 ],
 "metadata": {
  "kernelspec": {
   "display_name": "Python 3",
   "language": "python",
   "name": "python3"
  },
  "language_info": {
   "codemirror_mode": {
    "name": "ipython",
    "version": 3
   },
   "file_extension": ".py",
   "mimetype": "text/x-python",
   "name": "python",
   "nbconvert_exporter": "python",
   "pygments_lexer": "ipython3",
   "version": "3.13.2"
  }
 },
 "nbformat": 4,
 "nbformat_minor": 2
}
