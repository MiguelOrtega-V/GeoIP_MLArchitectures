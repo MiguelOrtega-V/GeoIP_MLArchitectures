{
 "cells": [
  {
   "cell_type": "markdown",
   "metadata": {},
   "source": [
    "## FASE 2 - Análisis Exploratorio (EDA) + Preprocesamiento"
   ]
  },
  {
   "cell_type": "markdown",
   "metadata": {},
   "source": [
    "##### 1. Carga del dataset y primera extracción de columnas relevantes"
   ]
  },
  {
   "cell_type": "code",
   "execution_count": 2,
   "metadata": {},
   "outputs": [],
   "source": [
    "import pandas as pd\n",
    "\n",
    "training_data = pd.read_csv('../tmp/training_data.csv')"
   ]
  },
  {
   "cell_type": "code",
   "execution_count": 3,
   "metadata": {},
   "outputs": [
    {
     "name": "stdout",
     "output_type": "stream",
     "text": [
      "Size of training data: (840324, 16)\n"
     ]
    },
    {
     "data": {
      "text/plain": [
       "id                       int64\n",
       "measure_id              object\n",
       "monitor_id              object\n",
       "landmark_id              int64\n",
       "landmark_type           object\n",
       "dst_ip                  object\n",
       "ping_rtt1              float64\n",
       "ping_rtt2              float64\n",
       "ping_rtt3              float64\n",
       "ping_rtt4              float64\n",
       "ping_rtt5              float64\n",
       "ping_rtt_avg           float64\n",
       "ping_rtt_std           float64\n",
       "direct_distance_kms    float64\n",
       "init_time               object\n",
       "end_time                object\n",
       "dtype: object"
      ]
     },
     "execution_count": 3,
     "metadata": {},
     "output_type": "execute_result"
    }
   ],
   "source": [
    "print(f'Size of training data: {training_data.shape}')\n",
    "training_data.dtypes"
   ]
  },
  {
   "cell_type": "code",
   "execution_count": 4,
   "metadata": {},
   "outputs": [
    {
     "data": {
      "text/plain": [
       "measure_id              object\n",
       "monitor_id              object\n",
       "landmark_id              int64\n",
       "landmark_type           object\n",
       "dst_ip                  object\n",
       "ping_rtt_avg           float64\n",
       "ping_rtt_std           float64\n",
       "direct_distance_kms    float64\n",
       "init_time               object\n",
       "dtype: object"
      ]
     },
     "execution_count": 4,
     "metadata": {},
     "output_type": "execute_result"
    }
   ],
   "source": [
    "training_data = training_data[[\n",
    "    \"measure_id\", \n",
    "    \"monitor_id\", \n",
    "    \"landmark_id\", \n",
    "    \"landmark_type\", \n",
    "    \"dst_ip\", \n",
    "    \"ping_rtt_avg\", \n",
    "    \"ping_rtt_std\", \n",
    "    \"direct_distance_kms\", \n",
    "    \"init_time\"\n",
    "]]\n",
    "\n",
    "# Tipos de datos\n",
    "training_data.dtypes"
   ]
  },
  {
   "cell_type": "markdown",
   "metadata": {},
   "source": [
    "##### 2. Añadido de columnas con franjas horarias para su posterior análisis"
   ]
  },
  {
   "cell_type": "code",
   "execution_count": 5,
   "metadata": {},
   "outputs": [
    {
     "name": "stdout",
     "output_type": "stream",
     "text": [
      "init_time_2h\n",
      "20    73446\n",
      "14    73158\n",
      "18    72456\n",
      "16    72456\n",
      "22    71346\n",
      "0     69906\n",
      "12    69540\n",
      "2     69018\n",
      "4     67530\n",
      "6     67332\n",
      "10    67254\n",
      "8     66882\n",
      "Name: count, dtype: int64\n",
      "init_time_6h\n",
      "18    217248\n",
      "12    215154\n",
      "0     206454\n",
      "6     201468\n",
      "Name: count, dtype: int64\n",
      "init_time_12h\n",
      "12    432402\n",
      "0     407922\n",
      "Name: count, dtype: int64\n"
     ]
    }
   ],
   "source": [
    "# Dependiendo del valor de la columna init_time, añadimos nuevas columnas asociandolo a diferentes franjas horarias\n",
    "# 1. Cada 2 horas -> 00:00, 02:00, 04:00, 06:00, 08:00, 10:00, 12:00, 14:00, 16:00, 18:00, 20:00, 22:00\n",
    "# 2. Cada 6 horas -> 00:00, 06:00, 12:00, 18:00\n",
    "# 3. Cada 12 horas -> 00:00, 12:00\n",
    "\n",
    "training_data['init_time'] = pd.to_datetime(training_data['init_time'])\n",
    "\n",
    "# Obtenemos únicamente la hora (es en lo que nos vamos a basar para dividir en franjas horarias)\n",
    "training_data_hour = training_data['init_time'].dt.hour\n",
    "\n",
    "# Creamos las columnas con las franjas horarias\n",
    "training_data['init_time_2h'] = training_data_hour.apply(lambda x: x - x % 2)\n",
    "training_data['init_time_6h'] = training_data_hour.apply(lambda x: x - x % 6)\n",
    "training_data['init_time_12h'] = training_data_hour.apply(lambda x: x - x % 12)\n",
    "\n",
    "# Mostramos el número de registros por cada franja horaria\n",
    "print(training_data['init_time_2h'].value_counts())\n",
    "print(training_data['init_time_6h'].value_counts())\n",
    "print(training_data['init_time_12h'].value_counts())"
   ]
  },
  {
   "cell_type": "markdown",
   "metadata": {},
   "source": [
    "##### 3. Codificación de variables categóricas a numéricas"
   ]
  },
  {
   "cell_type": "code",
   "execution_count": 6,
   "metadata": {},
   "outputs": [
    {
     "data": {
      "text/html": [
       "<div>\n",
       "<style scoped>\n",
       "    .dataframe tbody tr th:only-of-type {\n",
       "        vertical-align: middle;\n",
       "    }\n",
       "\n",
       "    .dataframe tbody tr th {\n",
       "        vertical-align: top;\n",
       "    }\n",
       "\n",
       "    .dataframe thead th {\n",
       "        text-align: right;\n",
       "    }\n",
       "</style>\n",
       "<table border=\"1\" class=\"dataframe\">\n",
       "  <thead>\n",
       "    <tr style=\"text-align: right;\">\n",
       "      <th></th>\n",
       "      <th>measure_id</th>\n",
       "      <th>monitor_id</th>\n",
       "      <th>landmark_id</th>\n",
       "      <th>landmark_type</th>\n",
       "      <th>dst_ip</th>\n",
       "      <th>ping_rtt_avg</th>\n",
       "      <th>ping_rtt_std</th>\n",
       "      <th>direct_distance_kms</th>\n",
       "      <th>init_time</th>\n",
       "      <th>init_time_2h</th>\n",
       "      <th>init_time_6h</th>\n",
       "      <th>init_time_12h</th>\n",
       "    </tr>\n",
       "  </thead>\n",
       "  <tbody>\n",
       "    <tr>\n",
       "      <th>0</th>\n",
       "      <td>95.217.19.69_2024-11-27 13:31:04</td>\n",
       "      <td>4</td>\n",
       "      <td>9404</td>\n",
       "      <td>ripe_anchor</td>\n",
       "      <td>95.217.19.69</td>\n",
       "      <td>43.3216</td>\n",
       "      <td>0.09509</td>\n",
       "      <td>934.999404</td>\n",
       "      <td>2024-11-27 13:31:04</td>\n",
       "      <td>12</td>\n",
       "      <td>12</td>\n",
       "      <td>12</td>\n",
       "    </tr>\n",
       "    <tr>\n",
       "      <th>1</th>\n",
       "      <td>95.217.19.69_2024-11-27 13:31:04</td>\n",
       "      <td>1</td>\n",
       "      <td>9404</td>\n",
       "      <td>ripe_anchor</td>\n",
       "      <td>95.217.19.69</td>\n",
       "      <td>29.9146</td>\n",
       "      <td>0.15830</td>\n",
       "      <td>1530.246007</td>\n",
       "      <td>2024-11-27 13:31:04</td>\n",
       "      <td>12</td>\n",
       "      <td>12</td>\n",
       "      <td>12</td>\n",
       "    </tr>\n",
       "    <tr>\n",
       "      <th>2</th>\n",
       "      <td>95.217.19.69_2024-11-27 13:31:04</td>\n",
       "      <td>5</td>\n",
       "      <td>9404</td>\n",
       "      <td>ripe_anchor</td>\n",
       "      <td>95.217.19.69</td>\n",
       "      <td>44.2758</td>\n",
       "      <td>0.16121</td>\n",
       "      <td>1954.678802</td>\n",
       "      <td>2024-11-27 13:31:04</td>\n",
       "      <td>12</td>\n",
       "      <td>12</td>\n",
       "      <td>12</td>\n",
       "    </tr>\n",
       "    <tr>\n",
       "      <th>3</th>\n",
       "      <td>95.217.19.69_2024-11-27 13:31:04</td>\n",
       "      <td>0</td>\n",
       "      <td>9404</td>\n",
       "      <td>ripe_anchor</td>\n",
       "      <td>95.217.19.69</td>\n",
       "      <td>58.5782</td>\n",
       "      <td>0.25197</td>\n",
       "      <td>2963.403860</td>\n",
       "      <td>2024-11-27 13:31:04</td>\n",
       "      <td>12</td>\n",
       "      <td>12</td>\n",
       "      <td>12</td>\n",
       "    </tr>\n",
       "    <tr>\n",
       "      <th>4</th>\n",
       "      <td>95.217.19.69_2024-11-27 13:31:04</td>\n",
       "      <td>2</td>\n",
       "      <td>9404</td>\n",
       "      <td>ripe_anchor</td>\n",
       "      <td>95.217.19.69</td>\n",
       "      <td>44.5080</td>\n",
       "      <td>0.34878</td>\n",
       "      <td>2031.641470</td>\n",
       "      <td>2024-11-27 13:31:04</td>\n",
       "      <td>12</td>\n",
       "      <td>12</td>\n",
       "      <td>12</td>\n",
       "    </tr>\n",
       "  </tbody>\n",
       "</table>\n",
       "</div>"
      ],
      "text/plain": [
       "                         measure_id  monitor_id  landmark_id landmark_type  \\\n",
       "0  95.217.19.69_2024-11-27 13:31:04           4         9404   ripe_anchor   \n",
       "1  95.217.19.69_2024-11-27 13:31:04           1         9404   ripe_anchor   \n",
       "2  95.217.19.69_2024-11-27 13:31:04           5         9404   ripe_anchor   \n",
       "3  95.217.19.69_2024-11-27 13:31:04           0         9404   ripe_anchor   \n",
       "4  95.217.19.69_2024-11-27 13:31:04           2         9404   ripe_anchor   \n",
       "\n",
       "         dst_ip  ping_rtt_avg  ping_rtt_std  direct_distance_kms  \\\n",
       "0  95.217.19.69       43.3216       0.09509           934.999404   \n",
       "1  95.217.19.69       29.9146       0.15830          1530.246007   \n",
       "2  95.217.19.69       44.2758       0.16121          1954.678802   \n",
       "3  95.217.19.69       58.5782       0.25197          2963.403860   \n",
       "4  95.217.19.69       44.5080       0.34878          2031.641470   \n",
       "\n",
       "            init_time  init_time_2h  init_time_6h  init_time_12h  \n",
       "0 2024-11-27 13:31:04            12            12             12  \n",
       "1 2024-11-27 13:31:04            12            12             12  \n",
       "2 2024-11-27 13:31:04            12            12             12  \n",
       "3 2024-11-27 13:31:04            12            12             12  \n",
       "4 2024-11-27 13:31:04            12            12             12  "
      ]
     },
     "execution_count": 6,
     "metadata": {},
     "output_type": "execute_result"
    }
   ],
   "source": [
    "# Convertimos monitor_id a valor numerico\n",
    "from sklearn.preprocessing import LabelEncoder\n",
    "le = LabelEncoder()\n",
    "training_data[\"monitor_id\"] = le.fit_transform(training_data[\"monitor_id\"])\n",
    "\n",
    "training_data.head()"
   ]
  },
  {
   "cell_type": "code",
   "execution_count": 7,
   "metadata": {},
   "outputs": [
    {
     "data": {
      "text/plain": [
       "array(['monitor_1_Madrid_ES', 'monitor_2_Frankfurt am Main_DE',\n",
       "       'monitor_3_Dublin_IE', 'monitor_4_Gävle_SE', 'monitor_5_Warsaw_PL',\n",
       "       'monitor_6_Milan_IT'], dtype=object)"
      ]
     },
     "execution_count": 7,
     "metadata": {},
     "output_type": "execute_result"
    }
   ],
   "source": [
    "# Mostramos qué etiquetas se han asignado a cada monitor_id\n",
    "le.classes_"
   ]
  },
  {
   "cell_type": "markdown",
   "metadata": {},
   "source": [
    "##### 4. Descripción del dataframe"
   ]
  },
  {
   "cell_type": "code",
   "execution_count": 8,
   "metadata": {},
   "outputs": [
    {
     "data": {
      "text/html": [
       "<div>\n",
       "<style scoped>\n",
       "    .dataframe tbody tr th:only-of-type {\n",
       "        vertical-align: middle;\n",
       "    }\n",
       "\n",
       "    .dataframe tbody tr th {\n",
       "        vertical-align: top;\n",
       "    }\n",
       "\n",
       "    .dataframe thead th {\n",
       "        text-align: right;\n",
       "    }\n",
       "</style>\n",
       "<table border=\"1\" class=\"dataframe\">\n",
       "  <thead>\n",
       "    <tr style=\"text-align: right;\">\n",
       "      <th></th>\n",
       "      <th>monitor_id</th>\n",
       "      <th>landmark_id</th>\n",
       "      <th>ping_rtt_avg</th>\n",
       "      <th>ping_rtt_std</th>\n",
       "      <th>direct_distance_kms</th>\n",
       "      <th>init_time</th>\n",
       "      <th>init_time_2h</th>\n",
       "      <th>init_time_6h</th>\n",
       "      <th>init_time_12h</th>\n",
       "    </tr>\n",
       "  </thead>\n",
       "  <tbody>\n",
       "    <tr>\n",
       "      <th>count</th>\n",
       "      <td>840324.000000</td>\n",
       "      <td>840324.000000</td>\n",
       "      <td>840324.000000</td>\n",
       "      <td>840324.000000</td>\n",
       "      <td>840324.000000</td>\n",
       "      <td>840324</td>\n",
       "      <td>840324.000000</td>\n",
       "      <td>840324.000000</td>\n",
       "      <td>840324.000000</td>\n",
       "    </tr>\n",
       "    <tr>\n",
       "      <th>mean</th>\n",
       "      <td>2.500000</td>\n",
       "      <td>13610.510439</td>\n",
       "      <td>36.124230</td>\n",
       "      <td>4.598907</td>\n",
       "      <td>1168.682662</td>\n",
       "      <td>2024-12-25 12:35:43.876561920</td>\n",
       "      <td>11.162923</td>\n",
       "      <td>9.164465</td>\n",
       "      <td>6.174790</td>\n",
       "    </tr>\n",
       "    <tr>\n",
       "      <th>min</th>\n",
       "      <td>0.000000</td>\n",
       "      <td>8868.000000</td>\n",
       "      <td>-1.000000</td>\n",
       "      <td>0.000000</td>\n",
       "      <td>0.582653</td>\n",
       "      <td>2024-11-27 13:31:04</td>\n",
       "      <td>0.000000</td>\n",
       "      <td>0.000000</td>\n",
       "      <td>0.000000</td>\n",
       "    </tr>\n",
       "    <tr>\n",
       "      <th>25%</th>\n",
       "      <td>1.000000</td>\n",
       "      <td>10848.000000</td>\n",
       "      <td>21.818800</td>\n",
       "      <td>0.122020</td>\n",
       "      <td>707.389377</td>\n",
       "      <td>2024-12-07 10:47:51</td>\n",
       "      <td>6.000000</td>\n",
       "      <td>6.000000</td>\n",
       "      <td>0.000000</td>\n",
       "    </tr>\n",
       "    <tr>\n",
       "      <th>50%</th>\n",
       "      <td>2.500000</td>\n",
       "      <td>13347.000000</td>\n",
       "      <td>34.301700</td>\n",
       "      <td>0.250800</td>\n",
       "      <td>1147.991667</td>\n",
       "      <td>2024-12-21 14:16:03.500000</td>\n",
       "      <td>12.000000</td>\n",
       "      <td>12.000000</td>\n",
       "      <td>12.000000</td>\n",
       "    </tr>\n",
       "    <tr>\n",
       "      <th>75%</th>\n",
       "      <td>4.000000</td>\n",
       "      <td>15383.000000</td>\n",
       "      <td>44.760400</td>\n",
       "      <td>0.609132</td>\n",
       "      <td>1528.043019</td>\n",
       "      <td>2025-01-10 11:08:17</td>\n",
       "      <td>18.000000</td>\n",
       "      <td>18.000000</td>\n",
       "      <td>12.000000</td>\n",
       "    </tr>\n",
       "    <tr>\n",
       "      <th>max</th>\n",
       "      <td>5.000000</td>\n",
       "      <td>20246.000000</td>\n",
       "      <td>2956.242200</td>\n",
       "      <td>1803.416000</td>\n",
       "      <td>4415.342017</td>\n",
       "      <td>2025-02-06 22:37:44</td>\n",
       "      <td>22.000000</td>\n",
       "      <td>18.000000</td>\n",
       "      <td>12.000000</td>\n",
       "    </tr>\n",
       "    <tr>\n",
       "      <th>std</th>\n",
       "      <td>1.707826</td>\n",
       "      <td>3240.753758</td>\n",
       "      <td>56.607848</td>\n",
       "      <td>48.858219</td>\n",
       "      <td>630.026576</td>\n",
       "      <td>NaN</td>\n",
       "      <td>6.930301</td>\n",
       "      <td>6.728768</td>\n",
       "      <td>5.997457</td>\n",
       "    </tr>\n",
       "  </tbody>\n",
       "</table>\n",
       "</div>"
      ],
      "text/plain": [
       "          monitor_id    landmark_id   ping_rtt_avg   ping_rtt_std  \\\n",
       "count  840324.000000  840324.000000  840324.000000  840324.000000   \n",
       "mean        2.500000   13610.510439      36.124230       4.598907   \n",
       "min         0.000000    8868.000000      -1.000000       0.000000   \n",
       "25%         1.000000   10848.000000      21.818800       0.122020   \n",
       "50%         2.500000   13347.000000      34.301700       0.250800   \n",
       "75%         4.000000   15383.000000      44.760400       0.609132   \n",
       "max         5.000000   20246.000000    2956.242200    1803.416000   \n",
       "std         1.707826    3240.753758      56.607848      48.858219   \n",
       "\n",
       "       direct_distance_kms                      init_time   init_time_2h  \\\n",
       "count        840324.000000                         840324  840324.000000   \n",
       "mean           1168.682662  2024-12-25 12:35:43.876561920      11.162923   \n",
       "min               0.582653            2024-11-27 13:31:04       0.000000   \n",
       "25%             707.389377            2024-12-07 10:47:51       6.000000   \n",
       "50%            1147.991667     2024-12-21 14:16:03.500000      12.000000   \n",
       "75%            1528.043019            2025-01-10 11:08:17      18.000000   \n",
       "max            4415.342017            2025-02-06 22:37:44      22.000000   \n",
       "std             630.026576                            NaN       6.930301   \n",
       "\n",
       "        init_time_6h  init_time_12h  \n",
       "count  840324.000000  840324.000000  \n",
       "mean        9.164465       6.174790  \n",
       "min         0.000000       0.000000  \n",
       "25%         6.000000       0.000000  \n",
       "50%        12.000000      12.000000  \n",
       "75%        18.000000      12.000000  \n",
       "max        18.000000      12.000000  \n",
       "std         6.728768       5.997457  "
      ]
     },
     "execution_count": 8,
     "metadata": {},
     "output_type": "execute_result"
    }
   ],
   "source": [
    "training_data.describe()"
   ]
  },
  {
   "cell_type": "markdown",
   "metadata": {},
   "source": [
    "##### 5. Visualización de datos"
   ]
  },
  {
   "cell_type": "code",
   "execution_count": 9,
   "metadata": {},
   "outputs": [
    {
     "data": {
      "image/png": "[encoded data removed]",
      "text/plain": [
       "<Figure size 640x480 with 1 Axes>"
      ]
     },
     "metadata": {},
     "output_type": "display_data"
    }
   ],
   "source": [
    "import matplotlib.pyplot as plt\n",
    "\n",
    "plt.scatter(training_data[\"ping_rtt_avg\"], training_data[\"direct_distance_kms\"])\n",
    "plt.xlabel(\"ping_rtt_avg\")\n",
    "plt.ylabel(\"direct_distance_kms\")\n",
    "plt.title(\"Primera representación de los datos\")\t\n",
    "plt.show()"
   ]
  },
  {
   "cell_type": "markdown",
   "metadata": {},
   "source": [
    "##### 6. Primera limpieza a partir de ping y distancia"
   ]
  },
  {
   "cell_type": "code",
   "execution_count": 10,
   "metadata": {},
   "outputs": [
    {
     "name": "stdout",
     "output_type": "stream",
     "text": [
      "Número total de entradas:  840324\n",
      "Número de entradas con un ping_rtt_avg mayor a 80 ms:  12386\n",
      "Número de entradas con un ping_rtt_avg menor a 0 ms:  49471\n",
      "Número de entradas con un direct_distance_kms menor a 50 km y un ping_rtt_avg mayor a 10 ms:  3805\n"
     ]
    }
   ],
   "source": [
    "# Número total de entradas\n",
    "print(\"Número total de entradas: \", len(training_data))\n",
    "# Número de entradas con un ping_rtt_avg mayor a 80 ms\n",
    "print(\"Número de entradas con un ping_rtt_avg mayor a 80 ms: \", len(training_data[training_data[\"ping_rtt_avg\"] > 80]))\n",
    "# Número de entradas con un ping_rtt_avg menor a 0 ms\n",
    "print(\"Número de entradas con un ping_rtt_avg menor a 0 ms: \", len(training_data[training_data[\"ping_rtt_avg\"] < 0]))\n",
    "# Número de entradas con un direct_distance_kms menor a 50 km y un ping_rtt_avg mayor a 10 ms\n",
    "print(\"Número de entradas con un direct_distance_kms menor a 50 km y un ping_rtt_avg mayor a 10 ms: \", len(training_data[(training_data[\"direct_distance_kms\"] < 50) & (training_data[\"ping_rtt_avg\"] > 10)]))"
   ]
  },
  {
   "cell_type": "code",
   "execution_count": 11,
   "metadata": {},
   "outputs": [
    {
     "name": "stdout",
     "output_type": "stream",
     "text": [
      "Número de entradas tras la limpieza: 774693\n"
     ]
    },
    {
     "data": {
      "text/plain": [
       "Text(0, 0.5, 'direct_distance_kms (kms)')"
      ]
     },
     "execution_count": 11,
     "metadata": {},
     "output_type": "execute_result"
    },
    {
     "data": {
      "image/png": "[encoded data removed]",
      "text/plain": [
       "<Figure size 2000x500 with 3 Axes>"
      ]
     },
     "metadata": {},
     "output_type": "display_data"
    },
    {
     "data": {
      "image/png": "[encoded data removed]",
      "text/plain": [
       "<Figure size 640x480 with 1 Axes>"
      ]
     },
     "metadata": {},
     "output_type": "display_data"
    }
   ],
   "source": [
    "# Creamos una figura con 3 subgráficas\n",
    "plt.figure(figsize=(20, 5))\n",
    "plt.suptitle('1º Limpieza de datos para AZURE VM IN GERMANY')\n",
    "\n",
    "# Eliminamos aquellas filas del df con un rtt mayor de 80ms\n",
    "training_data = training_data[training_data['ping_rtt_avg'] < 80]\n",
    "\n",
    "plt.subplot(1, 3, 1)\n",
    "plt.scatter(training_data['ping_rtt_avg'], training_data['direct_distance_kms'], color='green')\n",
    "plt.xlabel('ping_rtt_avg (ms)')\n",
    "plt.ylabel('direct_distance_kms (kms)')\n",
    "plt.title('rtt > 80 ms')\n",
    "\n",
    "# Eliminamos aquellas filas con un rtt menor a 0 ms\n",
    "training_data = training_data[training_data['ping_rtt_avg'] > 0]\n",
    "\n",
    "plt.subplot(1, 3, 2)\n",
    "plt.scatter(training_data['ping_rtt_avg'], training_data['direct_distance_kms'], color='purple')\n",
    "plt.xlabel('ping_rtt_avg (ms)')\n",
    "plt.ylabel('direct_distance_kms (kms)')\n",
    "plt.title('rtt < 0.5 ms')\n",
    "\n",
    "# Eliminamos aquellas filas con un a distancia menor a 50 km y un rtt mayor a 10 ms\n",
    "training_data = training_data[~((training_data['direct_distance_kms'] < 50) & (training_data['ping_rtt_avg'] > 10))]\n",
    "\n",
    "plt.subplot(1, 3, 3)\n",
    "plt.scatter(training_data['ping_rtt_avg'], training_data['direct_distance_kms'], color='red')\n",
    "plt.xlabel('ping_rtt_avg (ms)')\n",
    "plt.ylabel('direct_distance_kms (kms)')\n",
    "plt.title('dst < 50 km y rtt > 10 ms')\n",
    "\n",
    "# Mostramos el número de entradas tras la limpieza\n",
    "print(f\"Número de entradas tras la limpieza: {training_data.shape[0]}\")\n",
    "\n",
    "# Representamos en una gráfica la columna ping_rtt_avg frente a direct_distance_kms\n",
    "plt.figure()\n",
    "plt.scatter(training_data['ping_rtt_avg'], training_data['direct_distance_kms'])\n",
    "plt.title('Dataset entrenamiento tras 1º limpieza')\n",
    "plt.xlabel('ping_rtt_avg (ms)')\n",
    "plt.ylabel('direct_distance_kms (kms)')"
   ]
  },
  {
   "cell_type": "markdown",
   "metadata": {},
   "source": [
    "##### 7. Eliminación de outliers mediante clustering DBSCAN"
   ]
  },
  {
   "cell_type": "code",
   "execution_count": 12,
   "metadata": {},
   "outputs": [],
   "source": [
    "# # Hacemos uso de DBSCAN para detectar outliers\n",
    "# from sklearn.cluster import DBSCAN\n",
    "# from sklearn.preprocessing import StandardScaler\n",
    "# import matplotlib.pyplot as plt\n",
    "# import pandas as pd\n",
    "# import numpy as np\n",
    "\n",
    "# # Supongamos que df_ge es tu DataFrame con las columnas 'direct_distance_kms' y 'ping_rtt_avg'\n",
    "\n",
    "# # Escalamos los datos\n",
    "# scaler = StandardScaler()\n",
    "# X = training_data[['ping_rtt_avg', 'direct_distance_kms']]\n",
    "# X = scaler.fit_transform(X)\n",
    "\n",
    "# # Creamos el modelo DBSCAN\n",
    "# dbscan = DBSCAN(eps=0.2, min_samples=40)\n",
    "\n",
    "# # Predecimos los clusters\n",
    "# clusters = dbscan.fit_predict(X)\n",
    "\n",
    "# # Añadimos una columna al dataframe con los clusters\n",
    "# training_data['cluster'] = clusters\n",
    "\n",
    "# # Obtener número de clusters (excluyendo el ruido)\n",
    "# n_clusters = len(set(clusters)) - (1 if -1 in clusters else 0)\n",
    "\n",
    "# # Crear colores para cada cluster\n",
    "# unique_labels = set(clusters)\n",
    "# colors = plt.cm.Spectral(np.linspace(0, 1, len(unique_labels)))\n",
    "\n",
    "# # Representar en una gráfica los clusters\n",
    "# for k, col in zip(unique_labels, colors):\n",
    "#     if k == -1:\n",
    "#         # Color negro para el ruido\n",
    "#         col = 'k'\n",
    "    \n",
    "#     class_member_mask = (clusters == k)\n",
    "    \n",
    "#     xy = training_data[class_member_mask]\n",
    "#     plt.scatter(xy['ping_rtt_avg'], xy['direct_distance_kms'], c=[col], label=f'Cluster {k}' if k != -1 else 'Noise')\n",
    "\n",
    "# # Añadimos etiquetas a los ejes y título\n",
    "# plt.ylabel('direct_distance_kms (kms)')\n",
    "# plt.xlabel('ping_rtt_avg (ms)')\n",
    "# plt.title('Detección de Outliers con DBSCAN para Dataset Entrenamiento')\n",
    "\n",
    "# # Añadimos la leyenda\n",
    "# plt.legend()\n",
    "\n",
    "# # Mostramos la gráfica\n",
    "# plt.show()"
   ]
  },
  {
   "cell_type": "code",
   "execution_count": 13,
   "metadata": {},
   "outputs": [],
   "source": [
    "# print(f\"Número de entradas antes de eliminar ruido: {len(training_data)}\")\n",
    "\n",
    "# # Eliminamos lo que el clustering ha considerado como ruido\n",
    "# training_data = training_data[training_data['cluster'] != -1]\n",
    "\n",
    "# # Eliminamos la columna cluster\n",
    "# training_data = training_data.drop(columns='cluster')\n",
    "\n",
    "# print(f\"Número de entradas después de eliminar ruido: {len(training_data)}\")\n",
    "\n",
    "# # Representamos el dataframe\n",
    "# training_data.plot(x='ping_rtt_avg', y='direct_distance_kms', kind='scatter')\n",
    "# plt.title('Dataset entrenamiento tras DBSCAN')\n",
    "# plt.ylabel('direct_distance_kms (kms)')\n",
    "# plt.xlabel('ping_rtt_avg (ms)')\n",
    "# plt.show()"
   ]
  },
  {
   "cell_type": "markdown",
   "metadata": {},
   "source": [
    "##### 8. Correlación entre variables y target"
   ]
  },
  {
   "cell_type": "code",
   "execution_count": 14,
   "metadata": {},
   "outputs": [],
   "source": [
    "# # Pairplot, eje y es direct_distance_kms\n",
    "# import seaborn as sns\n",
    "\n",
    "# sns.pairplot(training_data, y_vars='direct_distance_kms', x_vars=['monitor_id', 'ping_rtt_avg', 'ping_rtt_std', 'traceroute_hops', 'valid_geo_total_kms', 'init_time_2h', 'init_time_6h', 'init_time_12h'])"
   ]
  },
  {
   "cell_type": "code",
   "execution_count": 15,
   "metadata": {},
   "outputs": [],
   "source": [
    "# # Observamos que hay valores atípicos en la columna ping_rtt_std mayor a 20 y en valid_geo_total_kms mayor a 40000, eliminamos estos valores\n",
    "# training_data = training_data[training_data['ping_rtt_std'] < 20]\n",
    "# training_data = training_data[training_data['valid_geo_total_kms'] < 40000]\n",
    "\n",
    "# sns.pairplot(training_data, y_vars='direct_distance_kms', x_vars=['monitor_id', 'ping_rtt_avg', 'ping_rtt_std', 'traceroute_hops', 'valid_geo_total_kms', 'init_time_2h', 'init_time_6h', 'init_time_12h'])"
   ]
  },
  {
   "cell_type": "code",
   "execution_count": 16,
   "metadata": {},
   "outputs": [
    {
     "name": "stdout",
     "output_type": "stream",
     "text": [
      "monitor_id            -0.174394\n",
      "ping_rtt_avg           0.642008\n",
      "ping_rtt_std          -0.025938\n",
      "direct_distance_kms    1.000000\n",
      "init_time_2h          -0.001499\n",
      "init_time_6h          -0.001673\n",
      "init_time_12h         -0.001740\n",
      "Name: direct_distance_kms, dtype: float64\n"
     ]
    }
   ],
   "source": [
    "# Matriz de correlación sobre la columna direct_distance_kms. No lo hacemos con las columnas measure_id y init_time\n",
    "correlation_matrix = training_data.drop(columns=['measure_id', 'dst_ip', 'landmark_id', 'landmark_type', 'init_time']).corr()\n",
    "print(correlation_matrix['direct_distance_kms'])"
   ]
  },
  {
   "cell_type": "markdown",
   "metadata": {},
   "source": [
    "Condición --> escogemos aquellas variables que tengan una correlación mayor al 30% con el target"
   ]
  },
  {
   "cell_type": "markdown",
   "metadata": {},
   "source": [
    "##### 9. Extracción de columnas relevantes para entrenamiento"
   ]
  },
  {
   "cell_type": "code",
   "execution_count": 17,
   "metadata": {},
   "outputs": [
    {
     "data": {
      "text/html": [
       "<div>\n",
       "<style scoped>\n",
       "    .dataframe tbody tr th:only-of-type {\n",
       "        vertical-align: middle;\n",
       "    }\n",
       "\n",
       "    .dataframe tbody tr th {\n",
       "        vertical-align: top;\n",
       "    }\n",
       "\n",
       "    .dataframe thead th {\n",
       "        text-align: right;\n",
       "    }\n",
       "</style>\n",
       "<table border=\"1\" class=\"dataframe\">\n",
       "  <thead>\n",
       "    <tr style=\"text-align: right;\">\n",
       "      <th></th>\n",
       "      <th>measure_id</th>\n",
       "      <th>monitor_id</th>\n",
       "      <th>landmark_id</th>\n",
       "      <th>landmark_type</th>\n",
       "      <th>dst_ip</th>\n",
       "      <th>ping_rtt_avg</th>\n",
       "      <th>direct_distance_kms</th>\n",
       "      <th>init_time</th>\n",
       "    </tr>\n",
       "  </thead>\n",
       "  <tbody>\n",
       "    <tr>\n",
       "      <th>0</th>\n",
       "      <td>95.217.19.69_2024-11-27 13:31:04</td>\n",
       "      <td>4</td>\n",
       "      <td>9404</td>\n",
       "      <td>ripe_anchor</td>\n",
       "      <td>95.217.19.69</td>\n",
       "      <td>43.3216</td>\n",
       "      <td>934.999404</td>\n",
       "      <td>2024-11-27 13:31:04</td>\n",
       "    </tr>\n",
       "    <tr>\n",
       "      <th>1</th>\n",
       "      <td>95.217.19.69_2024-11-27 13:31:04</td>\n",
       "      <td>1</td>\n",
       "      <td>9404</td>\n",
       "      <td>ripe_anchor</td>\n",
       "      <td>95.217.19.69</td>\n",
       "      <td>29.9146</td>\n",
       "      <td>1530.246007</td>\n",
       "      <td>2024-11-27 13:31:04</td>\n",
       "    </tr>\n",
       "    <tr>\n",
       "      <th>2</th>\n",
       "      <td>95.217.19.69_2024-11-27 13:31:04</td>\n",
       "      <td>5</td>\n",
       "      <td>9404</td>\n",
       "      <td>ripe_anchor</td>\n",
       "      <td>95.217.19.69</td>\n",
       "      <td>44.2758</td>\n",
       "      <td>1954.678802</td>\n",
       "      <td>2024-11-27 13:31:04</td>\n",
       "    </tr>\n",
       "    <tr>\n",
       "      <th>3</th>\n",
       "      <td>95.217.19.69_2024-11-27 13:31:04</td>\n",
       "      <td>0</td>\n",
       "      <td>9404</td>\n",
       "      <td>ripe_anchor</td>\n",
       "      <td>95.217.19.69</td>\n",
       "      <td>58.5782</td>\n",
       "      <td>2963.403860</td>\n",
       "      <td>2024-11-27 13:31:04</td>\n",
       "    </tr>\n",
       "    <tr>\n",
       "      <th>4</th>\n",
       "      <td>95.217.19.69_2024-11-27 13:31:04</td>\n",
       "      <td>2</td>\n",
       "      <td>9404</td>\n",
       "      <td>ripe_anchor</td>\n",
       "      <td>95.217.19.69</td>\n",
       "      <td>44.5080</td>\n",
       "      <td>2031.641470</td>\n",
       "      <td>2024-11-27 13:31:04</td>\n",
       "    </tr>\n",
       "  </tbody>\n",
       "</table>\n",
       "</div>"
      ],
      "text/plain": [
       "                         measure_id  monitor_id  landmark_id landmark_type  \\\n",
       "0  95.217.19.69_2024-11-27 13:31:04           4         9404   ripe_anchor   \n",
       "1  95.217.19.69_2024-11-27 13:31:04           1         9404   ripe_anchor   \n",
       "2  95.217.19.69_2024-11-27 13:31:04           5         9404   ripe_anchor   \n",
       "3  95.217.19.69_2024-11-27 13:31:04           0         9404   ripe_anchor   \n",
       "4  95.217.19.69_2024-11-27 13:31:04           2         9404   ripe_anchor   \n",
       "\n",
       "         dst_ip  ping_rtt_avg  direct_distance_kms           init_time  \n",
       "0  95.217.19.69       43.3216           934.999404 2024-11-27 13:31:04  \n",
       "1  95.217.19.69       29.9146          1530.246007 2024-11-27 13:31:04  \n",
       "2  95.217.19.69       44.2758          1954.678802 2024-11-27 13:31:04  \n",
       "3  95.217.19.69       58.5782          2963.403860 2024-11-27 13:31:04  \n",
       "4  95.217.19.69       44.5080          2031.641470 2024-11-27 13:31:04  "
      ]
     },
     "execution_count": 17,
     "metadata": {},
     "output_type": "execute_result"
    }
   ],
   "source": [
    "# Nos quedamos con las columnas más relevantes (measure_id, ahchor_id y dst_ip las guardamos para identificar las entradas)\n",
    "training_data = training_data[['measure_id', 'monitor_id', 'landmark_id', 'landmark_type', 'dst_ip', 'ping_rtt_avg', 'direct_distance_kms', 'init_time']]\n",
    "training_data.head()"
   ]
  },
  {
   "cell_type": "markdown",
   "metadata": {},
   "source": [
    "##### 10. Generación del Dataset KNN Fingerprint"
   ]
  },
  {
   "cell_type": "code",
   "execution_count": 18,
   "metadata": {},
   "outputs": [],
   "source": [
    "# Generación del dataset fingerprint para KNN. Va a contener:\n",
    "# - El identificador de la medida (measure_id)\n",
    "# - El identificador del Anchor (anchor_id)\n",
    "# - La IP destino (dst_ip)\n",
    "# - Timestamp (init_time)\n",
    "# - Una columna por latencia (latency_m1, latency_m2, latency_m2, latency_m4)\n",
    "# - GPS (gps_lat, gps_lon) real --> Variable objetivo"
   ]
  },
  {
   "cell_type": "code",
   "execution_count": 19,
   "metadata": {},
   "outputs": [
    {
     "name": "stdout",
     "output_type": "stream",
     "text": [
      "Size of anchors: (1341, 23)\n",
      "Size of probes: (52044, 23)\n"
     ]
    }
   ],
   "source": [
    "# Cargamos el dataset de Anchors para asociar la latitud y longitud a cada Anchor\n",
    "anchors = pd.read_csv('../../../Datasets/Anchors.csv')\n",
    "\n",
    "# Cargamos el dataset de Probes para asociar la latitud y longitud a cada Probe\n",
    "probes = pd.read_csv('../../../Datasets/ripe_atlas_probes.csv')\n",
    "\n",
    "print(f'Size of anchors: {anchors.shape}')\n",
    "print(f'Size of probes: {probes.shape}')"
   ]
  },
  {
   "cell_type": "code",
   "execution_count": 20,
   "metadata": {},
   "outputs": [],
   "source": [
    "# Hay duplicados en la columna 'ip_v4' que debemos eliminar\n",
    "anchors = anchors.drop_duplicates(subset=['ip_v4'])\n",
    "\n",
    "# Renombramos la columna 'ip_v4' por 'dst_ip' para poder unir los dataframes\n",
    "anchors.rename(columns={'ip_v4': 'dst_ip'}, inplace=True)\n",
    "\n",
    "# Renombramos la columna 'address_v4' por 'dst_ip' en probes para poder unir los dataframes\n",
    "probes.rename(columns={'address_v4': 'dst_ip'}, inplace=True)"
   ]
  },
  {
   "cell_type": "code",
   "execution_count": 21,
   "metadata": {},
   "outputs": [
    {
     "name": "stdout",
     "output_type": "stream",
     "text": [
      "Número de probes antes de eliminar los anchors: 52044\n",
      "Número de probes después de eliminar los anchors: 50713\n"
     ]
    }
   ],
   "source": [
    "# Si hay probes con la misma IP que los anchors, los eliminamos\n",
    "print(f'Número de probes antes de eliminar los anchors: {probes.shape[0]}')\n",
    "probes = probes[~probes['dst_ip'].isin(anchors['dst_ip'])]\n",
    "print(f'Número de probes después de eliminar los anchors: {probes.shape[0]}')"
   ]
  },
  {
   "cell_type": "code",
   "execution_count": 22,
   "metadata": {},
   "outputs": [
    {
     "name": "stdout",
     "output_type": "stream",
     "text": [
      "Size of anchors_probes: (51978, 3)\n",
      "Size of anchors_probes after drop duplicates: (29174, 3)\n"
     ]
    }
   ],
   "source": [
    "# Unimos los dataframes de probes y anchors, quedándonos con las columnas 'dst_ip', 'latitude', 'longitude'\n",
    "anchors_probes = pd.concat([anchors[['dst_ip', 'latitude', 'longitude']], probes[['dst_ip', 'latitude', 'longitude']]])\n",
    "print(f'Size of anchors_probes: {anchors_probes.shape}')\n",
    "\n",
    "# Eliminamos las filas duplicadas\n",
    "anchors_probes = anchors_probes.drop_duplicates(subset=['dst_ip'])\n",
    "print(f'Size of anchors_probes after drop duplicates: {anchors_probes.shape}')"
   ]
  },
  {
   "cell_type": "code",
   "execution_count": 23,
   "metadata": {},
   "outputs": [
    {
     "name": "stdout",
     "output_type": "stream",
     "text": [
      "Size of training_data: (774693, 8)\n",
      "Size of training_data: (774693, 10)\n"
     ]
    },
    {
     "data": {
      "text/html": [
       "<div>\n",
       "<style scoped>\n",
       "    .dataframe tbody tr th:only-of-type {\n",
       "        vertical-align: middle;\n",
       "    }\n",
       "\n",
       "    .dataframe tbody tr th {\n",
       "        vertical-align: top;\n",
       "    }\n",
       "\n",
       "    .dataframe thead th {\n",
       "        text-align: right;\n",
       "    }\n",
       "</style>\n",
       "<table border=\"1\" class=\"dataframe\">\n",
       "  <thead>\n",
       "    <tr style=\"text-align: right;\">\n",
       "      <th></th>\n",
       "      <th>measure_id</th>\n",
       "      <th>monitor_id</th>\n",
       "      <th>landmark_id</th>\n",
       "      <th>landmark_type</th>\n",
       "      <th>dst_ip</th>\n",
       "      <th>ping_rtt_avg</th>\n",
       "      <th>direct_distance_kms</th>\n",
       "      <th>init_time</th>\n",
       "      <th>latitude</th>\n",
       "      <th>longitude</th>\n",
       "    </tr>\n",
       "  </thead>\n",
       "  <tbody>\n",
       "    <tr>\n",
       "      <th>0</th>\n",
       "      <td>95.217.19.69_2024-11-27 13:31:04</td>\n",
       "      <td>4</td>\n",
       "      <td>9404</td>\n",
       "      <td>ripe_anchor</td>\n",
       "      <td>95.217.19.69</td>\n",
       "      <td>43.3216</td>\n",
       "      <td>934.999404</td>\n",
       "      <td>2024-11-27 13:31:04</td>\n",
       "      <td>60.34167</td>\n",
       "      <td>25.027666</td>\n",
       "    </tr>\n",
       "    <tr>\n",
       "      <th>1</th>\n",
       "      <td>95.217.19.69_2024-11-27 13:31:04</td>\n",
       "      <td>1</td>\n",
       "      <td>9404</td>\n",
       "      <td>ripe_anchor</td>\n",
       "      <td>95.217.19.69</td>\n",
       "      <td>29.9146</td>\n",
       "      <td>1530.246007</td>\n",
       "      <td>2024-11-27 13:31:04</td>\n",
       "      <td>60.34167</td>\n",
       "      <td>25.027666</td>\n",
       "    </tr>\n",
       "    <tr>\n",
       "      <th>2</th>\n",
       "      <td>95.217.19.69_2024-11-27 13:31:04</td>\n",
       "      <td>5</td>\n",
       "      <td>9404</td>\n",
       "      <td>ripe_anchor</td>\n",
       "      <td>95.217.19.69</td>\n",
       "      <td>44.2758</td>\n",
       "      <td>1954.678802</td>\n",
       "      <td>2024-11-27 13:31:04</td>\n",
       "      <td>60.34167</td>\n",
       "      <td>25.027666</td>\n",
       "    </tr>\n",
       "    <tr>\n",
       "      <th>3</th>\n",
       "      <td>95.217.19.69_2024-11-27 13:31:04</td>\n",
       "      <td>0</td>\n",
       "      <td>9404</td>\n",
       "      <td>ripe_anchor</td>\n",
       "      <td>95.217.19.69</td>\n",
       "      <td>58.5782</td>\n",
       "      <td>2963.403860</td>\n",
       "      <td>2024-11-27 13:31:04</td>\n",
       "      <td>60.34167</td>\n",
       "      <td>25.027666</td>\n",
       "    </tr>\n",
       "    <tr>\n",
       "      <th>4</th>\n",
       "      <td>95.217.19.69_2024-11-27 13:31:04</td>\n",
       "      <td>2</td>\n",
       "      <td>9404</td>\n",
       "      <td>ripe_anchor</td>\n",
       "      <td>95.217.19.69</td>\n",
       "      <td>44.5080</td>\n",
       "      <td>2031.641470</td>\n",
       "      <td>2024-11-27 13:31:04</td>\n",
       "      <td>60.34167</td>\n",
       "      <td>25.027666</td>\n",
       "    </tr>\n",
       "  </tbody>\n",
       "</table>\n",
       "</div>"
      ],
      "text/plain": [
       "                         measure_id  monitor_id  landmark_id landmark_type  \\\n",
       "0  95.217.19.69_2024-11-27 13:31:04           4         9404   ripe_anchor   \n",
       "1  95.217.19.69_2024-11-27 13:31:04           1         9404   ripe_anchor   \n",
       "2  95.217.19.69_2024-11-27 13:31:04           5         9404   ripe_anchor   \n",
       "3  95.217.19.69_2024-11-27 13:31:04           0         9404   ripe_anchor   \n",
       "4  95.217.19.69_2024-11-27 13:31:04           2         9404   ripe_anchor   \n",
       "\n",
       "         dst_ip  ping_rtt_avg  direct_distance_kms           init_time  \\\n",
       "0  95.217.19.69       43.3216           934.999404 2024-11-27 13:31:04   \n",
       "1  95.217.19.69       29.9146          1530.246007 2024-11-27 13:31:04   \n",
       "2  95.217.19.69       44.2758          1954.678802 2024-11-27 13:31:04   \n",
       "3  95.217.19.69       58.5782          2963.403860 2024-11-27 13:31:04   \n",
       "4  95.217.19.69       44.5080          2031.641470 2024-11-27 13:31:04   \n",
       "\n",
       "   latitude  longitude  \n",
       "0  60.34167  25.027666  \n",
       "1  60.34167  25.027666  \n",
       "2  60.34167  25.027666  \n",
       "3  60.34167  25.027666  \n",
       "4  60.34167  25.027666  "
      ]
     },
     "execution_count": 23,
     "metadata": {},
     "output_type": "execute_result"
    }
   ],
   "source": [
    "print(f'Size of training_data: {training_data.shape}')\n",
    "\n",
    "# Unimos los dataframes training_data y anchors_probes\n",
    "training_data = pd.merge(training_data, anchors_probes[['dst_ip', 'latitude', 'longitude']], on='dst_ip', how='left')\n",
    "\n",
    "# Mostramos las primeras filas del dataframe\n",
    "print(f'Size of training_data: {training_data.shape}')\n",
    "training_data.head()\n"
   ]
  },
  {
   "cell_type": "code",
   "execution_count": 24,
   "metadata": {},
   "outputs": [
    {
     "name": "stdout",
     "output_type": "stream",
     "text": [
      "Número de entradas antes de eliminar medidas faltantes: 774693\n",
      "Número de entradas después de eliminar medidas faltantes: 709998\n"
     ]
    }
   ],
   "source": [
    "# Nos quedamos de training data por las entradas con un measure_id que aparezca 6 veces (los 6 monitores)\n",
    "print(f\"Número de entradas antes de eliminar medidas faltantes: {len(training_data)}\")\n",
    "training_data = training_data[training_data['measure_id'].map(training_data['measure_id'].value_counts()) == 6]\n",
    "print(f\"Número de entradas después de eliminar medidas faltantes: {len(training_data)}\")"
   ]
  },
  {
   "cell_type": "code",
   "execution_count": 25,
   "metadata": {},
   "outputs": [
    {
     "name": "stderr",
     "output_type": "stream",
     "text": [
      "Generando fingerprint:   0%|          | 0/118333 [00:00<?, ?it/s]C:\\Users\\ma.ortega\\AppData\\Local\\Temp\\ipykernel_19176\\214282353.py:45: FutureWarning: The behavior of DataFrame concatenation with empty or all-NA entries is deprecated. In a future version, this will no longer exclude empty or all-NA columns when determining the result dtypes. To retain the old behavior, exclude the relevant entries before the concat operation.\n",
      "  fingerprint = pd.concat([fingerprint, fingerprint_id], ignore_index=True)\n",
      "Generando fingerprint: 100%|██████████| 118333/118333 [1:16:48<00:00, 25.68it/s]"
     ]
    },
    {
     "name": "stdout",
     "output_type": "stream",
     "text": [
      "Size of fingerprint: (118333, 11)\n"
     ]
    },
    {
     "name": "stderr",
     "output_type": "stream",
     "text": [
      "\n"
     ]
    },
    {
     "data": {
      "text/html": [
       "<div>\n",
       "<style scoped>\n",
       "    .dataframe tbody tr th:only-of-type {\n",
       "        vertical-align: middle;\n",
       "    }\n",
       "\n",
       "    .dataframe tbody tr th {\n",
       "        vertical-align: top;\n",
       "    }\n",
       "\n",
       "    .dataframe thead th {\n",
       "        text-align: right;\n",
       "    }\n",
       "</style>\n",
       "<table border=\"1\" class=\"dataframe\">\n",
       "  <thead>\n",
       "    <tr style=\"text-align: right;\">\n",
       "      <th></th>\n",
       "      <th>measure_id</th>\n",
       "      <th>landmark_id</th>\n",
       "      <th>dst_ip</th>\n",
       "      <th>init_time</th>\n",
       "      <th>latency_m1</th>\n",
       "      <th>latency_m2</th>\n",
       "      <th>latency_m3</th>\n",
       "      <th>latency_m4</th>\n",
       "      <th>latency_m5</th>\n",
       "      <th>latency_m6</th>\n",
       "      <th>gps_coord</th>\n",
       "    </tr>\n",
       "  </thead>\n",
       "  <tbody>\n",
       "    <tr>\n",
       "      <th>0</th>\n",
       "      <td>95.217.19.69_2024-11-27 13:31:04</td>\n",
       "      <td>9404</td>\n",
       "      <td>95.217.19.69</td>\n",
       "      <td>2024-11-27 13:31:04</td>\n",
       "      <td>58.5782</td>\n",
       "      <td>29.9146</td>\n",
       "      <td>44.5080</td>\n",
       "      <td>30.9156</td>\n",
       "      <td>43.3216</td>\n",
       "      <td>44.2758</td>\n",
       "      <td>[60.3416703, 25.0276663]</td>\n",
       "    </tr>\n",
       "    <tr>\n",
       "      <th>1</th>\n",
       "      <td>45.13.104.153_2024-11-27 13:31:11</td>\n",
       "      <td>9042</td>\n",
       "      <td>45.13.104.153</td>\n",
       "      <td>2024-11-27 13:31:11</td>\n",
       "      <td>31.8330</td>\n",
       "      <td>24.0060</td>\n",
       "      <td>31.6050</td>\n",
       "      <td>40.1600</td>\n",
       "      <td>41.6678</td>\n",
       "      <td>33.8332</td>\n",
       "      <td>[45.7615, 4.8395]</td>\n",
       "    </tr>\n",
       "    <tr>\n",
       "      <th>2</th>\n",
       "      <td>212.216.126.87_2024-11-27 13:32:12</td>\n",
       "      <td>11265</td>\n",
       "      <td>212.216.126.87</td>\n",
       "      <td>2024-11-27 13:32:12</td>\n",
       "      <td>39.2582</td>\n",
       "      <td>24.6598</td>\n",
       "      <td>40.5294</td>\n",
       "      <td>45.7428</td>\n",
       "      <td>38.6770</td>\n",
       "      <td>37.7004</td>\n",
       "      <td>[44.8215, 11.5995]</td>\n",
       "    </tr>\n",
       "    <tr>\n",
       "      <th>3</th>\n",
       "      <td>31.21.219.185_2024-11-27 13:32:28</td>\n",
       "      <td>13743</td>\n",
       "      <td>31.21.219.185</td>\n",
       "      <td>2024-11-27 13:32:28</td>\n",
       "      <td>38.3488</td>\n",
       "      <td>16.2102</td>\n",
       "      <td>24.1406</td>\n",
       "      <td>33.0970</td>\n",
       "      <td>33.7898</td>\n",
       "      <td>27.4372</td>\n",
       "      <td>[51.4505, 5.4505]</td>\n",
       "    </tr>\n",
       "    <tr>\n",
       "      <th>4</th>\n",
       "      <td>194.1.149.210_2024-11-27 13:33:37</td>\n",
       "      <td>9117</td>\n",
       "      <td>194.1.149.210</td>\n",
       "      <td>2024-11-27 13:33:37</td>\n",
       "      <td>47.2120</td>\n",
       "      <td>29.2842</td>\n",
       "      <td>50.2400</td>\n",
       "      <td>56.8978</td>\n",
       "      <td>62.3142</td>\n",
       "      <td>54.1528</td>\n",
       "      <td>[41.324873, 19.816192]</td>\n",
       "    </tr>\n",
       "  </tbody>\n",
       "</table>\n",
       "</div>"
      ],
      "text/plain": [
       "                           measure_id landmark_id          dst_ip  \\\n",
       "0    95.217.19.69_2024-11-27 13:31:04        9404    95.217.19.69   \n",
       "1   45.13.104.153_2024-11-27 13:31:11        9042   45.13.104.153   \n",
       "2  212.216.126.87_2024-11-27 13:32:12       11265  212.216.126.87   \n",
       "3   31.21.219.185_2024-11-27 13:32:28       13743   31.21.219.185   \n",
       "4   194.1.149.210_2024-11-27 13:33:37        9117   194.1.149.210   \n",
       "\n",
       "            init_time  latency_m1  latency_m2  latency_m3  latency_m4  \\\n",
       "0 2024-11-27 13:31:04     58.5782     29.9146     44.5080     30.9156   \n",
       "1 2024-11-27 13:31:11     31.8330     24.0060     31.6050     40.1600   \n",
       "2 2024-11-27 13:32:12     39.2582     24.6598     40.5294     45.7428   \n",
       "3 2024-11-27 13:32:28     38.3488     16.2102     24.1406     33.0970   \n",
       "4 2024-11-27 13:33:37     47.2120     29.2842     50.2400     56.8978   \n",
       "\n",
       "   latency_m5  latency_m6                 gps_coord  \n",
       "0     43.3216     44.2758  [60.3416703, 25.0276663]  \n",
       "1     41.6678     33.8332         [45.7615, 4.8395]  \n",
       "2     38.6770     37.7004        [44.8215, 11.5995]  \n",
       "3     33.7898     27.4372         [51.4505, 5.4505]  \n",
       "4     62.3142     54.1528    [41.324873, 19.816192]  "
      ]
     },
     "execution_count": 25,
     "metadata": {},
     "output_type": "execute_result"
    }
   ],
   "source": [
    "# Por cada measure_id, generamos el dataset fingerprint\n",
    "from tqdm import tqdm\n",
    "\n",
    "# Creamos un dataframe vacío con las columnas que vamos a necesitar\n",
    "fingerprint = pd.DataFrame(columns=['measure_id', 'landmark_id', 'dst_ip', 'init_time', 'latency_m1', 'latency_m2', 'latency_m3', 'latency_m4', 'latency_m5', 'latency_m6', 'gps_coord'])\n",
    "\n",
    "# Obtenemos los measure_id únicos\n",
    "measure_ids = training_data['measure_id'].unique()\n",
    "\n",
    "# Iteramos sobre los measure_id\n",
    "for measure_id in tqdm(measure_ids, desc=\"Generando fingerprint\"):\n",
    "    # Obtenemos las entradas asociadas a ese measure_id\n",
    "    measure_data = training_data[training_data['measure_id'] == measure_id]\n",
    "    # print(measure_data)\n",
    "\n",
    "    # Obtenemos las latencias además del id del monitor\n",
    "    latencies = measure_data[['monitor_id', 'ping_rtt_avg']].values\n",
    "    # print(latencies)\n",
    "    \n",
    "    # Obtenemos las coordenadas GPS\n",
    "    gps = measure_data[['latitude', 'longitude']].values[0]\n",
    "    \n",
    "    # Obtenemos el landmark_id, dst_ip y init_time\n",
    "    landmark_id = measure_data['landmark_id'].values[0]\n",
    "    dst_ip = measure_data['dst_ip'].values[0]\n",
    "    init_time = measure_data['init_time'].values[0]\n",
    "    \n",
    "    # Añadimos una nueva entrada al dataframe fingerprint\n",
    "    fingerprint_id = pd.DataFrame(\n",
    "        {\n",
    "            'measure_id': [measure_id],\n",
    "            'landmark_id': [landmark_id],\n",
    "            'dst_ip': [dst_ip],\n",
    "            'init_time': [init_time],\n",
    "            'latency_m1': [latencies[latencies[:, 0] == 0, 1][0]],\n",
    "            'latency_m2': [latencies[latencies[:, 0] == 1, 1][0]],\n",
    "            'latency_m3': [latencies[latencies[:, 0] == 2, 1][0]],\n",
    "            'latency_m4': [latencies[latencies[:, 0] == 3, 1][0]],\n",
    "            'latency_m5': [latencies[latencies[:, 0] == 4, 1][0]],\n",
    "            'latency_m6': [latencies[latencies[:, 0] == 5, 1][0]],\n",
    "            'gps_coord': [gps]\n",
    "        },\n",
    "        index=[0]\n",
    "    )\n",
    "    fingerprint = pd.concat([fingerprint, fingerprint_id], ignore_index=True)\n",
    "\n",
    "# Mostramos las primeras filas del dataframe fingerprint\n",
    "print(f'Size of fingerprint: {fingerprint.shape}')\n",
    "fingerprint.head()"
   ]
  },
  {
   "cell_type": "code",
   "execution_count": 29,
   "metadata": {},
   "outputs": [],
   "source": [
    "# Guardamos el dataframe fingerprint en un archivo CSV\n",
    "fingerprint.to_csv('../tmp/fingerprint_extended.csv', index=False)"
   ]
  },
  {
   "cell_type": "code",
   "execution_count": 30,
   "metadata": {},
   "outputs": [
    {
     "name": "stdout",
     "output_type": "stream",
     "text": [
      "Número de dst_ip únicas: 1023\n",
      "Tamaño del dataframe fingerprint antes de agrupar: (118333, 11)\n"
     ]
    },
    {
     "name": "stderr",
     "output_type": "stream",
     "text": [
      "C:\\Users\\ma.ortega\\AppData\\Local\\Temp\\ipykernel_19176\\2517804072.py:42: FutureWarning: The behavior of DataFrame concatenation with empty or all-NA entries is deprecated. In a future version, this will no longer exclude empty or all-NA columns when determining the result dtypes. To retain the old behavior, exclude the relevant entries before the concat operation.\n",
      "  fingerprint_final = pd.concat([fingerprint_final, fingerprint_id], ignore_index=True)\n"
     ]
    },
    {
     "name": "stdout",
     "output_type": "stream",
     "text": [
      "Tamaño del dataframe fingerprint después de agrupar: (1023, 10)\n"
     ]
    },
    {
     "data": {
      "text/html": [
       "<div>\n",
       "<style scoped>\n",
       "    .dataframe tbody tr th:only-of-type {\n",
       "        vertical-align: middle;\n",
       "    }\n",
       "\n",
       "    .dataframe tbody tr th {\n",
       "        vertical-align: top;\n",
       "    }\n",
       "\n",
       "    .dataframe thead th {\n",
       "        text-align: right;\n",
       "    }\n",
       "</style>\n",
       "<table border=\"1\" class=\"dataframe\">\n",
       "  <thead>\n",
       "    <tr style=\"text-align: right;\">\n",
       "      <th></th>\n",
       "      <th>landmark_id</th>\n",
       "      <th>dst_ip</th>\n",
       "      <th>init_time</th>\n",
       "      <th>latency_m1</th>\n",
       "      <th>latency_m2</th>\n",
       "      <th>latency_m3</th>\n",
       "      <th>latency_m4</th>\n",
       "      <th>latency_m5</th>\n",
       "      <th>latency_m6</th>\n",
       "      <th>gps_coord</th>\n",
       "    </tr>\n",
       "  </thead>\n",
       "  <tbody>\n",
       "    <tr>\n",
       "      <th>0</th>\n",
       "      <td>9404</td>\n",
       "      <td>95.217.19.69</td>\n",
       "      <td>2024-11-27 13:31:04</td>\n",
       "      <td>58.4238</td>\n",
       "      <td>23.9844</td>\n",
       "      <td>44.0702</td>\n",
       "      <td>30.7952</td>\n",
       "      <td>43.3780</td>\n",
       "      <td>41.9054</td>\n",
       "      <td>[60.3416703, 25.0276663]</td>\n",
       "    </tr>\n",
       "    <tr>\n",
       "      <th>1</th>\n",
       "      <td>9042</td>\n",
       "      <td>45.13.104.153</td>\n",
       "      <td>2024-11-27 13:31:11</td>\n",
       "      <td>27.7819</td>\n",
       "      <td>19.9025</td>\n",
       "      <td>27.0787</td>\n",
       "      <td>38.9920</td>\n",
       "      <td>37.1721</td>\n",
       "      <td>29.6870</td>\n",
       "      <td>[45.7615, 4.8395]</td>\n",
       "    </tr>\n",
       "    <tr>\n",
       "      <th>2</th>\n",
       "      <td>11265</td>\n",
       "      <td>212.216.126.87</td>\n",
       "      <td>2024-11-27 13:32:12</td>\n",
       "      <td>39.1292</td>\n",
       "      <td>22.3198</td>\n",
       "      <td>40.5458</td>\n",
       "      <td>55.8268</td>\n",
       "      <td>52.9606</td>\n",
       "      <td>37.7030</td>\n",
       "      <td>[44.8215, 11.5995]</td>\n",
       "    </tr>\n",
       "    <tr>\n",
       "      <th>3</th>\n",
       "      <td>13743</td>\n",
       "      <td>31.21.219.185</td>\n",
       "      <td>2024-11-27 13:32:28</td>\n",
       "      <td>38.3488</td>\n",
       "      <td>16.2700</td>\n",
       "      <td>23.5662</td>\n",
       "      <td>33.0926</td>\n",
       "      <td>42.3170</td>\n",
       "      <td>27.4364</td>\n",
       "      <td>[51.4505, 5.4505]</td>\n",
       "    </tr>\n",
       "    <tr>\n",
       "      <th>4</th>\n",
       "      <td>9117</td>\n",
       "      <td>194.1.149.210</td>\n",
       "      <td>2024-11-27 13:33:37</td>\n",
       "      <td>53.0078</td>\n",
       "      <td>31.3984</td>\n",
       "      <td>50.6929</td>\n",
       "      <td>57.3349</td>\n",
       "      <td>59.3433</td>\n",
       "      <td>49.8386</td>\n",
       "      <td>[41.324873, 19.816192]</td>\n",
       "    </tr>\n",
       "  </tbody>\n",
       "</table>\n",
       "</div>"
      ],
      "text/plain": [
       "  landmark_id          dst_ip           init_time  latency_m1  latency_m2  \\\n",
       "0        9404    95.217.19.69 2024-11-27 13:31:04     58.4238     23.9844   \n",
       "1        9042   45.13.104.153 2024-11-27 13:31:11     27.7819     19.9025   \n",
       "2       11265  212.216.126.87 2024-11-27 13:32:12     39.1292     22.3198   \n",
       "3       13743   31.21.219.185 2024-11-27 13:32:28     38.3488     16.2700   \n",
       "4        9117   194.1.149.210 2024-11-27 13:33:37     53.0078     31.3984   \n",
       "\n",
       "   latency_m3  latency_m4  latency_m5  latency_m6                 gps_coord  \n",
       "0     44.0702     30.7952     43.3780     41.9054  [60.3416703, 25.0276663]  \n",
       "1     27.0787     38.9920     37.1721     29.6870         [45.7615, 4.8395]  \n",
       "2     40.5458     55.8268     52.9606     37.7030        [44.8215, 11.5995]  \n",
       "3     23.5662     33.0926     42.3170     27.4364         [51.4505, 5.4505]  \n",
       "4     50.6929     57.3349     59.3433     49.8386    [41.324873, 19.816192]  "
      ]
     },
     "execution_count": 30,
     "metadata": {},
     "output_type": "execute_result"
    }
   ],
   "source": [
    "# Para evitar confusión con múltiples medidas a un mismo anchor, vamos a agrupar por anchor_id y dst_ip, y a quedarnos con la mediana de las latencias\n",
    "\n",
    "# Obtenemos los dst_ip únicos\n",
    "dst_ips = fingerprint['dst_ip'].unique()\n",
    "print(f\"Número de dst_ip únicas: {len(dst_ips)}\")\n",
    "print(f\"Tamaño del dataframe fingerprint antes de agrupar: {fingerprint.shape}\")\n",
    "\n",
    "# Creamos el dataframe final\n",
    "fingerprint_final = pd.DataFrame(columns=['landmark_id', 'dst_ip', 'init_time', 'latency_m1', 'latency_m2', 'latency_m3', 'latency_m4', 'latency_m5', 'latency_m6', 'gps_coord'])\n",
    "\n",
    "# Iteramos sobre los dst_ip\n",
    "for dst_ip in dst_ips:\n",
    "    # Obtenemos las entradas asociadas a ese dst_ip\n",
    "    dst_ip_data = fingerprint[fingerprint['dst_ip'] == dst_ip]\n",
    "    \n",
    "    # Obtenemos el anchor_id y la coordenada GPS\n",
    "    landmark_id = dst_ip_data['landmark_id'].values[0]\n",
    "    gps_coord = dst_ip_data['gps_coord'].values[0]\n",
    "    \n",
    "    # Obtenemos la mediana de las latencias -> como es par, la mediana es la media de los dos valores centrales\n",
    "    latencies = dst_ip_data[['latency_m1', 'latency_m2', 'latency_m3', 'latency_m4', 'latency_m5', 'latency_m6']].median().values\n",
    "    \n",
    "    # Obtenemos la fecha de la mediana de las fechas\n",
    "    init_time = dst_ip_data['init_time'].values[0]\n",
    "    \n",
    "    # Añadimos una nueva entrada al dataframe fingerprint\n",
    "    fingerprint_id = pd.DataFrame(\n",
    "        {\n",
    "            'landmark_id': [landmark_id],\n",
    "            'dst_ip': [dst_ip],\n",
    "            'init_time': [init_time],\n",
    "            'latency_m1': [latencies[0]],\n",
    "            'latency_m2': [latencies[1]],\n",
    "            'latency_m3': [latencies[2]],\n",
    "            'latency_m4': [latencies[3]],\n",
    "            'latency_m5': [latencies[4]],\n",
    "            'latency_m6': [latencies[5]],\n",
    "            'gps_coord': [gps_coord]\n",
    "        },\n",
    "        index=[0]\n",
    "    )\n",
    "    fingerprint_final = pd.concat([fingerprint_final, fingerprint_id], ignore_index=True)\n",
    "\n",
    "print(f\"Tamaño del dataframe fingerprint después de agrupar: {fingerprint_final.shape}\")\n",
    "\n",
    "# Mostramos las primeras filas del dataframe fingerprint\n",
    "fingerprint_final.head()"
   ]
  },
  {
   "cell_type": "markdown",
   "metadata": {},
   "source": [
    "##### 11. Guardado del dataset Fingerprint"
   ]
  },
  {
   "cell_type": "code",
   "execution_count": 31,
   "metadata": {},
   "outputs": [],
   "source": [
    "# Guardamos el dataset limpio\n",
    "fingerprint_final.to_csv('../tmp/fingerprintKNN_train.csv', index=False)"
   ]
  }
 ],
 "metadata": {
  "kernelspec": {
   "display_name": "Python 3",
   "language": "python",
   "name": "python3"
  },
  "language_info": {
   "codemirror_mode": {
    "name": "ipython",
    "version": 3
   },
   "file_extension": ".py",
   "mimetype": "text/x-python",
   "name": "python",
   "nbconvert_exporter": "python",
   "pygments_lexer": "ipython3",
   "version": "3.13.2"
  }
 },
 "nbformat": 4,
 "nbformat_minor": 2
}
